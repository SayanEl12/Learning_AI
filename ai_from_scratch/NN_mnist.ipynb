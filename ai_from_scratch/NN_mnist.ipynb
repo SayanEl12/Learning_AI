{
 "cells": [
  {
   "cell_type": "code",
   "execution_count": 8,
   "id": "initial_id",
   "metadata": {
    "ExecuteTime": {
     "end_time": "2024-02-27T20:05:05.848780900Z",
     "start_time": "2024-02-27T20:05:04.359653Z"
    },
    "collapsed": true
   },
   "outputs": [],
   "source": [
    "import numpy as np\n",
    "import pandas as pd\n",
    "from matplotlib import pyplot as plt"
   ]
  },
  {
   "cell_type": "code",
   "execution_count": 9,
   "id": "7ded5df7da7c202b",
   "metadata": {
    "ExecuteTime": {
     "end_time": "2024-02-27T20:05:11.990610900Z",
     "start_time": "2024-02-27T20:05:10.261894Z"
    },
    "collapsed": false
   },
   "outputs": [
    {
     "name": "stdout",
     "output_type": "stream",
     "text": [
      "(42000, 785)\n"
     ]
    },
    {
     "data": {
      "text/html": [
       "<div>\n",
       "<style scoped>\n",
       "    .dataframe tbody tr th:only-of-type {\n",
       "        vertical-align: middle;\n",
       "    }\n",
       "\n",
       "    .dataframe tbody tr th {\n",
       "        vertical-align: top;\n",
       "    }\n",
       "\n",
       "    .dataframe thead th {\n",
       "        text-align: right;\n",
       "    }\n",
       "</style>\n",
       "<table border=\"1\" class=\"dataframe\">\n",
       "  <thead>\n",
       "    <tr style=\"text-align: right;\">\n",
       "      <th></th>\n",
       "      <th>label</th>\n",
       "      <th>pixel0</th>\n",
       "      <th>pixel1</th>\n",
       "      <th>pixel2</th>\n",
       "      <th>pixel3</th>\n",
       "      <th>pixel4</th>\n",
       "      <th>pixel5</th>\n",
       "      <th>pixel6</th>\n",
       "      <th>pixel7</th>\n",
       "      <th>pixel8</th>\n",
       "      <th>...</th>\n",
       "      <th>pixel774</th>\n",
       "      <th>pixel775</th>\n",
       "      <th>pixel776</th>\n",
       "      <th>pixel777</th>\n",
       "      <th>pixel778</th>\n",
       "      <th>pixel779</th>\n",
       "      <th>pixel780</th>\n",
       "      <th>pixel781</th>\n",
       "      <th>pixel782</th>\n",
       "      <th>pixel783</th>\n",
       "    </tr>\n",
       "  </thead>\n",
       "  <tbody>\n",
       "    <tr>\n",
       "      <th>0</th>\n",
       "      <td>1</td>\n",
       "      <td>0</td>\n",
       "      <td>0</td>\n",
       "      <td>0</td>\n",
       "      <td>0</td>\n",
       "      <td>0</td>\n",
       "      <td>0</td>\n",
       "      <td>0</td>\n",
       "      <td>0</td>\n",
       "      <td>0</td>\n",
       "      <td>...</td>\n",
       "      <td>0</td>\n",
       "      <td>0</td>\n",
       "      <td>0</td>\n",
       "      <td>0</td>\n",
       "      <td>0</td>\n",
       "      <td>0</td>\n",
       "      <td>0</td>\n",
       "      <td>0</td>\n",
       "      <td>0</td>\n",
       "      <td>0</td>\n",
       "    </tr>\n",
       "    <tr>\n",
       "      <th>1</th>\n",
       "      <td>0</td>\n",
       "      <td>0</td>\n",
       "      <td>0</td>\n",
       "      <td>0</td>\n",
       "      <td>0</td>\n",
       "      <td>0</td>\n",
       "      <td>0</td>\n",
       "      <td>0</td>\n",
       "      <td>0</td>\n",
       "      <td>0</td>\n",
       "      <td>...</td>\n",
       "      <td>0</td>\n",
       "      <td>0</td>\n",
       "      <td>0</td>\n",
       "      <td>0</td>\n",
       "      <td>0</td>\n",
       "      <td>0</td>\n",
       "      <td>0</td>\n",
       "      <td>0</td>\n",
       "      <td>0</td>\n",
       "      <td>0</td>\n",
       "    </tr>\n",
       "    <tr>\n",
       "      <th>2</th>\n",
       "      <td>1</td>\n",
       "      <td>0</td>\n",
       "      <td>0</td>\n",
       "      <td>0</td>\n",
       "      <td>0</td>\n",
       "      <td>0</td>\n",
       "      <td>0</td>\n",
       "      <td>0</td>\n",
       "      <td>0</td>\n",
       "      <td>0</td>\n",
       "      <td>...</td>\n",
       "      <td>0</td>\n",
       "      <td>0</td>\n",
       "      <td>0</td>\n",
       "      <td>0</td>\n",
       "      <td>0</td>\n",
       "      <td>0</td>\n",
       "      <td>0</td>\n",
       "      <td>0</td>\n",
       "      <td>0</td>\n",
       "      <td>0</td>\n",
       "    </tr>\n",
       "    <tr>\n",
       "      <th>3</th>\n",
       "      <td>4</td>\n",
       "      <td>0</td>\n",
       "      <td>0</td>\n",
       "      <td>0</td>\n",
       "      <td>0</td>\n",
       "      <td>0</td>\n",
       "      <td>0</td>\n",
       "      <td>0</td>\n",
       "      <td>0</td>\n",
       "      <td>0</td>\n",
       "      <td>...</td>\n",
       "      <td>0</td>\n",
       "      <td>0</td>\n",
       "      <td>0</td>\n",
       "      <td>0</td>\n",
       "      <td>0</td>\n",
       "      <td>0</td>\n",
       "      <td>0</td>\n",
       "      <td>0</td>\n",
       "      <td>0</td>\n",
       "      <td>0</td>\n",
       "    </tr>\n",
       "    <tr>\n",
       "      <th>4</th>\n",
       "      <td>0</td>\n",
       "      <td>0</td>\n",
       "      <td>0</td>\n",
       "      <td>0</td>\n",
       "      <td>0</td>\n",
       "      <td>0</td>\n",
       "      <td>0</td>\n",
       "      <td>0</td>\n",
       "      <td>0</td>\n",
       "      <td>0</td>\n",
       "      <td>...</td>\n",
       "      <td>0</td>\n",
       "      <td>0</td>\n",
       "      <td>0</td>\n",
       "      <td>0</td>\n",
       "      <td>0</td>\n",
       "      <td>0</td>\n",
       "      <td>0</td>\n",
       "      <td>0</td>\n",
       "      <td>0</td>\n",
       "      <td>0</td>\n",
       "    </tr>\n",
       "  </tbody>\n",
       "</table>\n",
       "<p>5 rows × 785 columns</p>\n",
       "</div>"
      ],
      "text/plain": [
       "   label  pixel0  pixel1  pixel2  pixel3  pixel4  pixel5  pixel6  pixel7  \\\n",
       "0      1       0       0       0       0       0       0       0       0   \n",
       "1      0       0       0       0       0       0       0       0       0   \n",
       "2      1       0       0       0       0       0       0       0       0   \n",
       "3      4       0       0       0       0       0       0       0       0   \n",
       "4      0       0       0       0       0       0       0       0       0   \n",
       "\n",
       "   pixel8  ...  pixel774  pixel775  pixel776  pixel777  pixel778  pixel779  \\\n",
       "0       0  ...         0         0         0         0         0         0   \n",
       "1       0  ...         0         0         0         0         0         0   \n",
       "2       0  ...         0         0         0         0         0         0   \n",
       "3       0  ...         0         0         0         0         0         0   \n",
       "4       0  ...         0         0         0         0         0         0   \n",
       "\n",
       "   pixel780  pixel781  pixel782  pixel783  \n",
       "0         0         0         0         0  \n",
       "1         0         0         0         0  \n",
       "2         0         0         0         0  \n",
       "3         0         0         0         0  \n",
       "4         0         0         0         0  \n",
       "\n",
       "[5 rows x 785 columns]"
      ]
     },
     "execution_count": 9,
     "metadata": {},
     "output_type": "execute_result"
    }
   ],
   "source": [
    "data = pd.read_csv(\"Data/train.csv\")\n",
    "data_C = data.copy()\n",
    "print(data.shape)\n",
    "data.head()"
   ]
  },
  {
   "cell_type": "code",
   "execution_count": 10,
   "id": "ab1f71c1533eec91",
   "metadata": {
    "ExecuteTime": {
     "end_time": "2024-02-22T19:36:06.732113100Z",
     "start_time": "2024-02-22T19:36:04.935869700Z"
    },
    "collapsed": false
   },
   "outputs": [],
   "source": [
    "# DATA\n",
    "data = data_C\n",
    "data = np.array(data)\n",
    "m, n = data.shape\n",
    "np.random.shuffle(data)\n",
    "\n",
    "data_dev = data[0:1000].T\n",
    "Y_dev = data_dev[0]\n",
    "X_dev = data_dev[1:n]\n",
    "X_dev = X_dev / 255.\n",
    "\n",
    "data_train = data[1000:m].T\n",
    "Y_train = data_train[0]\n",
    "X_train = data_train[1:n]\n",
    "X_train = X_train / 255."
   ]
  },
  {
   "cell_type": "code",
   "execution_count": 11,
   "id": "7ee7c2e66917c657",
   "metadata": {
    "ExecuteTime": {
     "end_time": "2024-02-22T19:36:06.737894400Z",
     "start_time": "2024-02-22T19:36:06.621368600Z"
    },
    "collapsed": false
   },
   "outputs": [],
   "source": [
    "def init_params():\n",
    "     w1 = np.random.rand(10, 784)\n",
    "     b1 = np.random.rand(10, 1)\n",
    "     w2 = np.random.rand(10, 10)\n",
    "     b2 = np.random.rand(10, 1)\n",
    "     return w1, b1, w2, b2\n",
    "\n",
    "def ReLU(z):\n",
    "     return np.maximum(0, z)\n",
    "\n",
    "def sigmoid(z):\n",
    "     return 1 / (1 + np.exp(-z))\n",
    "\n",
    "def forward_prop(w1, b1, w2, b2, X):\n",
    "     z1 = w1.dot(X) + b1\n",
    "     a1 = ReLU(z1)\n",
    "     z2 = w2.dot(a1) + b2\n",
    "     a2 = sigmoid(z2)\n",
    "     return z1, a1, z2, a2\n",
    "\n",
    "def one_hot(y):\n",
    "     one_hot_Y = np.zeros((y.size, y.max() + 1))\n",
    "     one_hot_Y[np.arange(y.size), y] = 1\n",
    "     one_hot_Y = one_hot_Y.T\n",
    "     return one_hot_Y\n",
    "\n",
    "def deriv_ReLU(z):\n",
    "     return z > 0\n",
    "def deriv_sigmoid(z):  \n",
    "     return sigmoid(z) * (1 - sigmoid(z))\n",
    "\n",
    "def back_prop(z1, a1, z2, a2, w2, x, y):\n",
    "     np.set_printoptions(formatter={'float':'{:.5f}'.format})\n",
    "     m = y.size\n",
    "     yr = one_hot(y)\n",
    "     cost = (a2 - yr)\n",
    "     db2  = 1/m * np.sum(cost, axis=1).reshape(-1, 1)\n",
    "     dw2 = 1/m * cost.dot(a1.T)\n",
    "     dE1 = w2.T.dot(cost) * deriv_ReLU(z1)\n",
    "     db1  = 1/m * np.sum(dE1, axis=1).reshape(-1, 1)\n",
    "     dw1 = 1/m * dE1.dot(x.T)\n",
    "     return dw1, db1 ,dw2 ,db2\n",
    "\n",
    "def update_params(w1, b1, w2, b2, dw1, db1 ,dw2 ,db2, alpha):\n",
    "     w1 = w1 - alpha * dw1\n",
    "     b1 = b1 - alpha * db1\n",
    "     w2 = w2 - alpha * dw2\n",
    "     b2 = b2 - alpha * db2\n",
    "     return w1, b1, w2, b2\n",
    "     "
   ]
  },
  {
   "cell_type": "code",
   "execution_count": 21,
   "id": "5435dbf2eb5fcc3e",
   "metadata": {
    "ExecuteTime": {
     "end_time": "2024-02-22T19:36:06.860692700Z",
     "start_time": "2024-02-22T19:36:06.645358600Z"
    },
    "collapsed": false
   },
   "outputs": [],
   "source": [
    "def get_accuracy(predictions, y):\n",
    "     return np.sum(predictions == y) / y.size\n",
    "\n",
    "def get_predictions(a2):\n",
    "     return np.argmax(a2, 0)\n",
    "\n",
    "def gradient_descent(x, y, iterations, alpha):\n",
    "     w1, b1 ,w2, b2 = init_params()\n",
    "     for i in range(iterations):\n",
    "          z1, a1, z2, a2, = forward_prop(w1, b1, w2, b2, x)\n",
    "          dw1, db1, dw2, db2 = back_prop(z1, a1, z2, a2, w2, x, y)\n",
    "          w1, b1 ,w2, b2 = update_params(w1, b1, w2, b2, dw1, db1 ,dw2 ,db2, alpha)\n",
    "          if i % 50 == 0:\n",
    "               print(\"Iteration:\", i)\n",
    "               crnt_accuracy = get_accuracy(get_predictions(a2), y)*100\n",
    "               crnt_accuracy_fomt = '{:.2f}'.format(crnt_accuracy)\n",
    "               crnt_accuracy_dev = get_accuracy(get_predictions(a2), Y_dev)*100\n",
    "               crnt_accuracy_dev_fomt = '{:.2f}'.format(crnt_accuracy_dev)\n",
    "               print(\"accuracy with train data: \",crnt_accuracy_fomt, \"%\")\n",
    "               print(\"accuracy with dev data: \",crnt_accuracy_fomt, \"%\\n\")\n",
    "     return w1, b1, w2, b2"
   ]
  },
  {
   "cell_type": "code",
   "execution_count": 22,
   "id": "e4d54fd2abad86fb",
   "metadata": {
    "ExecuteTime": {
     "end_time": "2024-02-22T19:37:03.255924Z",
     "start_time": "2024-02-22T19:36:06.668433100Z"
    },
    "collapsed": false
   },
   "outputs": [
    {
     "name": "stdout",
     "output_type": "stream",
     "text": [
      "Iteration: 0\n"
     ]
    },
    {
     "ename": "ValueError",
     "evalue": "operands could not be broadcast together with shapes (41000,) (1000,) ",
     "output_type": "error",
     "traceback": [
      "\u001b[1;31m---------------------------------------------------------------------------\u001b[0m",
      "\u001b[1;31mValueError\u001b[0m                                Traceback (most recent call last)",
      "Cell \u001b[1;32mIn[22], line 1\u001b[0m\n\u001b[1;32m----> 1\u001b[0m w1, b1, w2, b2 \u001b[38;5;241m=\u001b[39m \u001b[43mgradient_descent\u001b[49m\u001b[43m(\u001b[49m\u001b[43mX_train\u001b[49m\u001b[43m,\u001b[49m\u001b[43m \u001b[49m\u001b[43mY_train\u001b[49m\u001b[43m,\u001b[49m\u001b[43m \u001b[49m\u001b[38;5;241;43m800\u001b[39;49m\u001b[43m,\u001b[49m\u001b[43m \u001b[49m\u001b[38;5;241;43m0.05\u001b[39;49m\u001b[43m)\u001b[49m\n",
      "Cell \u001b[1;32mIn[21], line 17\u001b[0m, in \u001b[0;36mgradient_descent\u001b[1;34m(x, y, iterations, alpha)\u001b[0m\n\u001b[0;32m     15\u001b[0m crnt_accuracy \u001b[38;5;241m=\u001b[39m get_accuracy(get_predictions(a2), y)\u001b[38;5;241m*\u001b[39m\u001b[38;5;241m100\u001b[39m\n\u001b[0;32m     16\u001b[0m crnt_accuracy_fomt \u001b[38;5;241m=\u001b[39m \u001b[38;5;124m'\u001b[39m\u001b[38;5;132;01m{:.2f}\u001b[39;00m\u001b[38;5;124m'\u001b[39m\u001b[38;5;241m.\u001b[39mformat(crnt_accuracy)\n\u001b[1;32m---> 17\u001b[0m crnt_accuracy_dev \u001b[38;5;241m=\u001b[39m \u001b[43mget_accuracy\u001b[49m\u001b[43m(\u001b[49m\u001b[43mget_predictions\u001b[49m\u001b[43m(\u001b[49m\u001b[43ma2\u001b[49m\u001b[43m)\u001b[49m\u001b[43m,\u001b[49m\u001b[43m \u001b[49m\u001b[43mY_dev\u001b[49m\u001b[43m)\u001b[49m\u001b[38;5;241m*\u001b[39m\u001b[38;5;241m100\u001b[39m\n\u001b[0;32m     18\u001b[0m crnt_accuracy_dev_fomt \u001b[38;5;241m=\u001b[39m \u001b[38;5;124m'\u001b[39m\u001b[38;5;132;01m{:.2f}\u001b[39;00m\u001b[38;5;124m'\u001b[39m\u001b[38;5;241m.\u001b[39mformat(crnt_accuracy_dev)\n\u001b[0;32m     19\u001b[0m \u001b[38;5;28mprint\u001b[39m(\u001b[38;5;124m\"\u001b[39m\u001b[38;5;124maccuracy with train data: \u001b[39m\u001b[38;5;124m\"\u001b[39m,crnt_accuracy_fomt, \u001b[38;5;124m\"\u001b[39m\u001b[38;5;124m%\u001b[39m\u001b[38;5;124m\"\u001b[39m)\n",
      "Cell \u001b[1;32mIn[21], line 2\u001b[0m, in \u001b[0;36mget_accuracy\u001b[1;34m(predictions, y)\u001b[0m\n\u001b[0;32m      1\u001b[0m \u001b[38;5;28;01mdef\u001b[39;00m \u001b[38;5;21mget_accuracy\u001b[39m(predictions, y):\n\u001b[1;32m----> 2\u001b[0m      \u001b[38;5;28;01mreturn\u001b[39;00m np\u001b[38;5;241m.\u001b[39msum(\u001b[43mpredictions\u001b[49m\u001b[43m \u001b[49m\u001b[38;5;241;43m==\u001b[39;49m\u001b[43m \u001b[49m\u001b[43my\u001b[49m) \u001b[38;5;241m/\u001b[39m y\u001b[38;5;241m.\u001b[39msize\n",
      "\u001b[1;31mValueError\u001b[0m: operands could not be broadcast together with shapes (41000,) (1000,) "
     ]
    }
   ],
   "source": [
    "w1, b1, w2, b2 = gradient_descent(X_train, Y_train, 800, 0.05)"
   ]
  },
  {
   "cell_type": "code",
   "execution_count": null,
   "id": "ead825ac",
   "metadata": {},
   "outputs": [],
   "source": [
    "crnt_accuracy = get_accuracy(get_predictions(a2), y)*100"
   ]
  },
  {
   "cell_type": "code",
   "execution_count": 17,
   "id": "b01c7c58bc9e044e",
   "metadata": {
    "ExecuteTime": {
     "end_time": "2024-02-22T19:37:03.276466600Z",
     "start_time": "2024-02-22T19:37:03.257983900Z"
    },
    "collapsed": false
   },
   "outputs": [],
   "source": [
    "def make_predictions(X, w1, b1, w2, b2):\n",
    "    _, _, _, A2 = forward_prop(w1, b1, w2, b2, X)\n",
    "    predictions = get_predictions(A2)\n",
    "    return predictions\n",
    "def test_prediction(index, w1, b1, w2, b2):\n",
    "    current_image = X_train[:, index, None]\n",
    "    prediction = make_predictions(X_train[:, index, None], w1, b1, w2, b2)\n",
    "    label = Y_train[index]\n",
    "    print(\"Prediction: \", prediction)\n",
    "    print(\"Label: \", label)\n",
    "    \n",
    "    current_image = current_image.reshape((28, 28)) * 255\n",
    "    plt.gray()\n",
    "    plt.imshow(current_image, interpolation='nearest')\n",
    "    plt.show()\n",
    "    \n",
    "def false_predictions(w1, b1, w2, b2):\n",
    "    values = []\n",
    "    for index in range(X_train.shape[1]):\n",
    "         prediction = make_predictions(X_train[:, index, None], w1, b1, w2, b2)\n",
    "         label = Y_train[index]\n",
    "         if prediction[0] != label:\n",
    "             values.append(index)\n",
    "    return values\n",
    "         "
   ]
  },
  {
   "cell_type": "code",
   "execution_count": 20,
   "id": "edef9a6d696085c8",
   "metadata": {
    "ExecuteTime": {
     "end_time": "2024-02-22T19:38:15.011981800Z",
     "start_time": "2024-02-22T19:38:14.899289700Z"
    },
    "collapsed": false
   },
   "outputs": [
    {
     "name": "stdout",
     "output_type": "stream",
     "text": [
      "Prediction:  [4]\n",
      "Label:  4\n"
     ]
    },
    {
     "data": {
      "image/png": "[encoded data removed]",
      "text/plain": [
       "<Figure size 640x480 with 1 Axes>"
      ]
     },
     "metadata": {},
     "output_type": "display_data"
    }
   ],
   "source": [
    "test_prediction(100, w1, b1, w2, b2)\n",
    "#test_prediction(1, w1, b1, w2, b2)\n",
    "#test_prediction(2, w1, b1, w2, b2)\n",
    "#test_prediction(3, w1, b1, w2, b2)"
   ]
  },
  {
   "cell_type": "code",
   "execution_count": 16,
   "id": "b3dee9d2ba7cac46",
   "metadata": {
    "ExecuteTime": {
     "end_time": "2024-02-22T19:37:04.256977400Z",
     "start_time": "2024-02-22T19:37:03.475282400Z"
    },
    "collapsed": false
   },
   "outputs": [
    {
     "name": "stdout",
     "output_type": "stream",
     "text": [
      "[5, 26, 31, 35, 38, 44, 47, 50, 55, 61, 69, 72, 79, 80, 81, 85, 88, 91, 101, 108, 111, 113, 116, 126, 128, 137, 142, 150, 151, 153, 158, 166, 172, 175, 177, 182, 186, 190, 193, 195, 211, 217, 218, 219, 245, 256, 266, 267, 270, 280, 287, 293, 294, 303, 306, 315, 318, 320, 321, 324, 327, 335, 340, 344, 348, 350, 353, 354, 362, 370, 374, 378, 382, 384, 389, 399, 402, 406, 410, 416, 418, 432, 439, 441, 442, 444, 468, 475, 502, 503, 506, 515, 516, 523, 526, 530, 538, 548, 554, 556, 560, 562, 568, 581, 597, 598, 601, 605, 607, 612, 625, 643, 653, 657, 661, 685, 686, 691, 695, 699, 704, 720, 731, 734, 736, 748, 751, 756, 764, 771, 778, 781, 785, 792, 799, 801, 803, 809, 810, 812, 814, 818, 822, 825, 844, 845, 849, 855, 856, 858, 863, 868, 871, 875, 879, 882, 887, 889, 896, 908, 909, 912, 913, 923, 930, 931, 932, 941, 948, 958, 965, 967, 973, 976, 980, 992, 993, 997, 998, 1004, 1021, 1024, 1027, 1031, 1033, 1034, 1040, 1042, 1047, 1057, 1058, 1064, 1068, 1070, 1076, 1077, 1084, 1087, 1094, 1099, 1105, 1106, 1121, 1124, 1125, 1128, 1130, 1132, 1139, 1140, 1145, 1148, 1149, 1157, 1159, 1162, 1176, 1177, 1193, 1204, 1209, 1228, 1242, 1244, 1257, 1260, 1263, 1267, 1285, 1290, 1313, 1318, 1322, 1324, 1329, 1333, 1339, 1340, 1349, 1358, 1360, 1361, 1372, 1373, 1374, 1376, 1380, 1387, 1390, 1396, 1397, 1404, 1405, 1408, 1415, 1421, 1427, 1440, 1445, 1448, 1450, 1463, 1466, 1478, 1481, 1484, 1486, 1494, 1498, 1504, 1507, 1525, 1530, 1537, 1550, 1564, 1570, 1573, 1581, 1582, 1600, 1603, 1610, 1613, 1616, 1623, 1627, 1630, 1636, 1651, 1654, 1663, 1665, 1666, 1671, 1674, 1686, 1705, 1711, 1721, 1733, 1737, 1740, 1742, 1777, 1778, 1783, 1815, 1826, 1841, 1843, 1854, 1855, 1857, 1858, 1860, 1861, 1862, 1864, 1866, 1874, 1875, 1880, 1882, 1888, 1889, 1906, 1911, 1913, 1919, 1920, 1934, 1942, 1946, 1954, 1960, 1966, 1972, 1973, 1974, 1975, 1977, 1979, 1986, 1994, 2005, 2008, 2009, 2026, 2027, 2029, 2038, 2044, 2058, 2059, 2060, 2061, 2071, 2074, 2084, 2096, 2107, 2110, 2111, 2115, 2118, 2121, 2126, 2134, 2136, 2141, 2148, 2149, 2151, 2158, 2165, 2168, 2170, 2171, 2184, 2189, 2190, 2191, 2195, 2199, 2202, 2203, 2207, 2217, 2221, 2223, 2224, 2226, 2229, 2230, 2240, 2241, 2246, 2247, 2248, 2257, 2272, 2275, 2282, 2283, 2290, 2302, 2307, 2310, 2311, 2312, 2314, 2315, 2317, 2327, 2340, 2344, 2349, 2353, 2358, 2365, 2370, 2373, 2397, 2406, 2407, 2419, 2420, 2423, 2432, 2434, 2436, 2452, 2474, 2475, 2505, 2510, 2515, 2518, 2527, 2531, 2532, 2543, 2553, 2572, 2581, 2583, 2586, 2602, 2609, 2615, 2624, 2635, 2638, 2643, 2647, 2648, 2659, 2661, 2668, 2674, 2677, 2688, 2692, 2693, 2695, 2700, 2701, 2711, 2714, 2722, 2724, 2736, 2744, 2745, 2749, 2754, 2755, 2768, 2770, 2782, 2793, 2799, 2800, 2808, 2811, 2819, 2827, 2839, 2846, 2847, 2854, 2857, 2858, 2870, 2876, 2883, 2884, 2888, 2890, 2891, 2893, 2915, 2919, 2923, 2924, 2930, 2931, 2950, 2964, 2966, 2970, 2986, 2990, 2992, 2993, 2996, 2998, 2999, 3002, 3006, 3010, 3017, 3022, 3027, 3030, 3034, 3036, 3038, 3047, 3073, 3082, 3085, 3098, 3104, 3112, 3122, 3124, 3139, 3140, 3146, 3154, 3169, 3170, 3178, 3182, 3194, 3198, 3203, 3208, 3218, 3222, 3223, 3225, 3226, 3229, 3235, 3236, 3246, 3252, 3256, 3265, 3268, 3269, 3270, 3271, 3275, 3276, 3277, 3286, 3293, 3294, 3300, 3303, 3304, 3306, 3308, 3310, 3317, 3321, 3329, 3339, 3345, 3362, 3363, 3365, 3373, 3382, 3384, 3390, 3394, 3395, 3399, 3416, 3422, 3425, 3428, 3432, 3439, 3442, 3446, 3451, 3459, 3460, 3468, 3477, 3483, 3498, 3514, 3518, 3520, 3529, 3531, 3537, 3540, 3545, 3562, 3570, 3579, 3584, 3588, 3600, 3601, 3606, 3607, 3613, 3615, 3621, 3625, 3628, 3630, 3631, 3636, 3644, 3690, 3695, 3698, 3709, 3710, 3716, 3719, 3720, 3721, 3722, 3724, 3738, 3741, 3755, 3765, 3773, 3788, 3800, 3807, 3810, 3816, 3822, 3834, 3836, 3846, 3855, 3867, 3868, 3872, 3878, 3879, 3884, 3888, 3891, 3895, 3905, 3907, 3921, 3922, 3930, 3933, 3938, 3939, 3940, 3944, 3950, 3964, 3966, 3967, 3970, 3974, 3977, 3978, 3983, 3991, 4001, 4015, 4017, 4028, 4033, 4035, 4044, 4045, 4051, 4055, 4057, 4064, 4066, 4069, 4071, 4080, 4087, 4095, 4096, 4098, 4108, 4109, 4121, 4125, 4134, 4135, 4145, 4149, 4157, 4158, 4161, 4164, 4165, 4169, 4172, 4178, 4182, 4183, 4190, 4194, 4205, 4207, 4221, 4228, 4231, 4232, 4235, 4238, 4249, 4253, 4254, 4256, 4257, 4270, 4281, 4290, 4293, 4298, 4316, 4325, 4332, 4335, 4344, 4366, 4369, 4373, 4378, 4381, 4382, 4386, 4393, 4396, 4397, 4404, 4407, 4409, 4416, 4418, 4434, 4436, 4440, 4449, 4454, 4456, 4459, 4462, 4470, 4471, 4473, 4480, 4491, 4492, 4494, 4503, 4511, 4513, 4514, 4521, 4524, 4531, 4532, 4538, 4539, 4542, 4543, 4548, 4549, 4563, 4567, 4568, 4574, 4579, 4581, 4582, 4585, 4586, 4587, 4588, 4589, 4599, 4600, 4608, 4609, 4624, 4628, 4640, 4647, 4653, 4665, 4670, 4674, 4675, 4689, 4690, 4692, 4695, 4706, 4712, 4719, 4728, 4735, 4744, 4746, 4761, 4763, 4771, 4773, 4774, 4777, 4784, 4787, 4789, 4792, 4795, 4799, 4801, 4811, 4822, 4838, 4841, 4846, 4854, 4855, 4872, 4882, 4887, 4890, 4893, 4896, 4906, 4916, 4917, 4919, 4929, 4932, 4944, 4950, 4951, 4958, 4971, 4972, 4976, 4979, 4980, 4982, 4987, 4988, 4991, 5000, 5002, 5007, 5031, 5032, 5034, 5040, 5045, 5048, 5049, 5067, 5069, 5084, 5095, 5098, 5099, 5105, 5111, 5119, 5123, 5129, 5139, 5146, 5147, 5158, 5163, 5166, 5170, 5173, 5178, 5180, 5182, 5185, 5192, 5197, 5207, 5213, 5225, 5230, 5233, 5238, 5240, 5255, 5258, 5260, 5267, 5278, 5289, 5291, 5296, 5298, 5302, 5303, 5306, 5307, 5317, 5321, 5328, 5336, 5355, 5361, 5364, 5366, 5367, 5369, 5375, 5387, 5388, 5397, 5409, 5417, 5434, 5442, 5449, 5454, 5458, 5461, 5470, 5477, 5480, 5488, 5490, 5491, 5493, 5494, 5495, 5499, 5505, 5532, 5543, 5545, 5552, 5581, 5589, 5591, 5594, 5605, 5618, 5630, 5631, 5634, 5641, 5644, 5648, 5655, 5656, 5660, 5668, 5670, 5675, 5677, 5684, 5690, 5693, 5699, 5705, 5708, 5715, 5719, 5730, 5733, 5736, 5737, 5739, 5747, 5751, 5763, 5765, 5767, 5771, 5773, 5774, 5776, 5785, 5803, 5806, 5809, 5811, 5813, 5826, 5842, 5847, 5852, 5853, 5863, 5875, 5876, 5881, 5882, 5884, 5907, 5917, 5918, 5921, 5922, 5931, 5932, 5933, 5935, 5942, 5944, 5955, 5966, 5968, 5974, 5981, 5997, 6006, 6010, 6011, 6015, 6028, 6029, 6033, 6034, 6042, 6049, 6054, 6060, 6076, 6078, 6080, 6082, 6087, 6089, 6090, 6093, 6094, 6099, 6103, 6106, 6108, 6111, 6116, 6124, 6134, 6144, 6163, 6164, 6171, 6179, 6186, 6190, 6194, 6208, 6228, 6230, 6231, 6236, 6237, 6244, 6246, 6254, 6256, 6259, 6265, 6273, 6277, 6286, 6287, 6293, 6309, 6310, 6314, 6331, 6352, 6355, 6363, 6366, 6374, 6381, 6387, 6395, 6416, 6419, 6420, 6423, 6443, 6446, 6454, 6462, 6475, 6477, 6480, 6481, 6491, 6497, 6504, 6510, 6515, 6520, 6537, 6544, 6546, 6553, 6555, 6557, 6558, 6560, 6566, 6578, 6580, 6584, 6590, 6593, 6596, 6607, 6613, 6619, 6620, 6622, 6623, 6637, 6642, 6645, 6666, 6675, 6683, 6684, 6685, 6690, 6701, 6702, 6717, 6723, 6726, 6727, 6729, 6733, 6735, 6747, 6754, 6756, 6760, 6765, 6766, 6770, 6778, 6780, 6782, 6784, 6787, 6797, 6801, 6827, 6837, 6857, 6866, 6879, 6885, 6890, 6895, 6896, 6913, 6922, 6925, 6926, 6929, 6936, 6941, 6944, 6951, 6954, 6955, 6968, 6969, 6973, 6976, 6987, 6992, 6993, 7002, 7004, 7016, 7019, 7022, 7029, 7034, 7036, 7037, 7038, 7056, 7057, 7064, 7071, 7075, 7082, 7084, 7088, 7092, 7101, 7107, 7112, 7114, 7121, 7129, 7131, 7133, 7134, 7136, 7140, 7148, 7157, 7171, 7174, 7177, 7185, 7186, 7193, 7195, 7199, 7202, 7205, 7212, 7218, 7219, 7220, 7240, 7242, 7243, 7253, 7254, 7255, 7257, 7264, 7271, 7279, 7284, 7301, 7315, 7318, 7320, 7323, 7330, 7331, 7334, 7335, 7336, 7356, 7361, 7362, 7365, 7367, 7370, 7374, 7375, 7380, 7382, 7383, 7394, 7398, 7401, 7404, 7405, 7407, 7420, 7429, 7433, 7434, 7436, 7439, 7440, 7447, 7455, 7461, 7469, 7486, 7487, 7489, 7492, 7497, 7498, 7500, 7509, 7510, 7514, 7518, 7534, 7537, 7538, 7544, 7552, 7553, 7556, 7561, 7562, 7564, 7570, 7573, 7574, 7585, 7616, 7618, 7622, 7623, 7629, 7644, 7652, 7662, 7668, 7675, 7683, 7684, 7686, 7689, 7693, 7697, 7709, 7711, 7713, 7722, 7730, 7737, 7751, 7753, 7771, 7773, 7774, 7776, 7792, 7795, 7796, 7798, 7799, 7804, 7813, 7848, 7858, 7859, 7860, 7865, 7875, 7877, 7881, 7884, 7887, 7889, 7903, 7906, 7909, 7913, 7914, 7927, 7935, 7939, 7943, 7950, 7951, 7955, 7956, 7965, 7966, 7969, 7988, 7991, 7999, 8004, 8010, 8012, 8015, 8018, 8019, 8024, 8028, 8030, 8033, 8038, 8053, 8055, 8056, 8057, 8065, 8073, 8074, 8076, 8092, 8098, 8101, 8117, 8138, 8144, 8158, 8161, 8164, 8169, 8171, 8173, 8183, 8187, 8192, 8193, 8200, 8212, 8215, 8219, 8223, 8224, 8229, 8238, 8246, 8249, 8261, 8273, 8274, 8281, 8290, 8293, 8313, 8316, 8319, 8324, 8326, 8332, 8345, 8355, 8357, 8365, 8372, 8377, 8381, 8383, 8395, 8407, 8419, 8421, 8426, 8437, 8443, 8455, 8456, 8458, 8474, 8481, 8484, 8485, 8487, 8498, 8499, 8501, 8519, 8529, 8535, 8546, 8548, 8549, 8561, 8563, 8564, 8578, 8579, 8586, 8610, 8613, 8618, 8621, 8624, 8628, 8629, 8632, 8633, 8635, 8642, 8644, 8648, 8651, 8656, 8671, 8673, 8676, 8678, 8679, 8680, 8682, 8691, 8696, 8701, 8706, 8708, 8723, 8739, 8751, 8765, 8770, 8778, 8781, 8782, 8786, 8825, 8833, 8834, 8838, 8847, 8853, 8854, 8858, 8861, 8862, 8867, 8869, 8874, 8883, 8893, 8897, 8900, 8909, 8926, 8929, 8936, 8943, 8949, 8950, 8964, 8972, 8977, 9006, 9011, 9018, 9022, 9040, 9055, 9056, 9057, 9068, 9070, 9081, 9088, 9096, 9100, 9103, 9109, 9110, 9123, 9148, 9168, 9182, 9187, 9197, 9205, 9210, 9214, 9215, 9223, 9227, 9228, 9238, 9240, 9245, 9247, 9251, 9269, 9270, 9276, 9281, 9284, 9287, 9289, 9295, 9301, 9306, 9309, 9311, 9313, 9321, 9330, 9332, 9344, 9345, 9346, 9357, 9358, 9364, 9366, 9379, 9392, 9395, 9397, 9399, 9405, 9413, 9416, 9422, 9442, 9445, 9454, 9457, 9461, 9467, 9472, 9479, 9481, 9498, 9500, 9508, 9511, 9512, 9520, 9523, 9526, 9530, 9532, 9538, 9542, 9547, 9551, 9555, 9568, 9575, 9583, 9585, 9593, 9595, 9604, 9613, 9621, 9622, 9634, 9649, 9653, 9665, 9682, 9685, 9691, 9697, 9701, 9703, 9706, 9721, 9724, 9725, 9726, 9729, 9734, 9748, 9753, 9765, 9778, 9779, 9783, 9791, 9802, 9823, 9832, 9846, 9847, 9853, 9856, 9864, 9872, 9880, 9897, 9898, 9900, 9901, 9907, 9909, 9921, 9927, 9930, 9931, 9948, 9966, 9974, 9979, 9990, 9994, 9999, 10003, 10004, 10005, 10008, 10010, 10016, 10026, 10029, 10037, 10038, 10049, 10050, 10051, 10054, 10058, 10073, 10075, 10078, 10080, 10101, 10108, 10118, 10121, 10123, 10140, 10142, 10151, 10158, 10161, 10167, 10170, 10174, 10182, 10184, 10194, 10196, 10200, 10208, 10211, 10213, 10215, 10218, 10231, 10233, 10238, 10240, 10243, 10245, 10250, 10269, 10277, 10287, 10298, 10306, 10309, 10318, 10319, 10331, 10338, 10341, 10343, 10346, 10358, 10365, 10374, 10379, 10380, 10389, 10394, 10395, 10400, 10406, 10407, 10419, 10420, 10422, 10427, 10444, 10447, 10448, 10452, 10458, 10459, 10462, 10472, 10474, 10480, 10482, 10485, 10490, 10500, 10506, 10523, 10530, 10531, 10535, 10536, 10544, 10547, 10549, 10551, 10572, 10578, 10590, 10592, 10598, 10604, 10612, 10615, 10619, 10629, 10650, 10654, 10656, 10658, 10665, 10668, 10677, 10678, 10683, 10685, 10696, 10701, 10707, 10709, 10714, 10725, 10737, 10743, 10744, 10752, 10760, 10763, 10765, 10768, 10772, 10782, 10784, 10795, 10802, 10811, 10825, 10836, 10849, 10851, 10852, 10853, 10864, 10867, 10868, 10877, 10878, 10879, 10895, 10900, 10909, 10917, 10918, 10919, 10922, 10925, 10927, 10933, 10937, 10940, 10944, 10947, 10959, 10965, 10984, 10999, 11003, 11011, 11023, 11026, 11030, 11050, 11053, 11062, 11067, 11068, 11069, 11072, 11094, 11107, 11111, 11114, 11119, 11127, 11135, 11137, 11138, 11141, 11160, 11161, 11166, 11179, 11180, 11197, 11201, 11211, 11218, 11221, 11223, 11227, 11232, 11236, 11240, 11242, 11243, 11245, 11247, 11253, 11259, 11263, 11266, 11281, 11289, 11291, 11293, 11294, 11295, 11297, 11308, 11310, 11313, 11320, 11322, 11329, 11341, 11343, 11353, 11384, 11386, 11391, 11392, 11395, 11409, 11421, 11429, 11432, 11433, 11434, 11436, 11437, 11440, 11445, 11453, 11457, 11462, 11463, 11471, 11479, 11480, 11483, 11491, 11499, 11501, 11503, 11505, 11508, 11512, 11513, 11515, 11519, 11523, 11541, 11542, 11543, 11553, 11557, 11558, 11560, 11561, 11566, 11567, 11579, 11580, 11590, 11601, 11603, 11607, 11609, 11610, 11611, 11629, 11639, 11651, 11652, 11656, 11672, 11673, 11684, 11689, 11691, 11701, 11702, 11721, 11733, 11739, 11740, 11742, 11744, 11748, 11750, 11767, 11775, 11776, 11777, 11781, 11791, 11793, 11795, 11800, 11802, 11817, 11825, 11831, 11836, 11862, 11867, 11869, 11870, 11873, 11877, 11882, 11892, 11913, 11916, 11922, 11923, 11927, 11931, 11933, 11936, 11937, 11938, 11939, 11973, 11977, 11993, 11998, 11999, 12001, 12007, 12017, 12025, 12033, 12035, 12045, 12055, 12057, 12060, 12062, 12066, 12068, 12076, 12078, 12081, 12086, 12087, 12094, 12098, 12102, 12103, 12112, 12137, 12152, 12156, 12160, 12167, 12174, 12179, 12185, 12188, 12190, 12207, 12211, 12212, 12223, 12234, 12241, 12243, 12256, 12258, 12259, 12261, 12286, 12296, 12306, 12307, 12320, 12321, 12324, 12331, 12333, 12335, 12337, 12340, 12355, 12368, 12369, 12375, 12385, 12386, 12397, 12410, 12413, 12415, 12423, 12428, 12435, 12438, 12439, 12443, 12445, 12455, 12467, 12473, 12476, 12477, 12490, 12499, 12506, 12509, 12510, 12513, 12520, 12522, 12523, 12525, 12526, 12530, 12541, 12546, 12549, 12555, 12560, 12562, 12565, 12570, 12573, 12575, 12593, 12600, 12608, 12612, 12618, 12622, 12626, 12631, 12653, 12654, 12657, 12672, 12675, 12683, 12688, 12703, 12710, 12713, 12722, 12724, 12726, 12732, 12739, 12753, 12756, 12764, 12768, 12770, 12781, 12792, 12793, 12799, 12804, 12805, 12816, 12817, 12824, 12836, 12843, 12849, 12851, 12859, 12872, 12874, 12884, 12895, 12912, 12913, 12914, 12918, 12924, 12938, 12944, 12946, 12948, 12956, 12959, 12971, 12978, 12984, 12993, 13000, 13006, 13009, 13018, 13023, 13025, 13029, 13039, 13043, 13057, 13060, 13061, 13064, 13078, 13092, 13108, 13109, 13112, 13129, 13130, 13151, 13158, 13162, 13170, 13175, 13184, 13195, 13197, 13200, 13213, 13216, 13222, 13226, 13243, 13253, 13266, 13269, 13270, 13278, 13280, 13294, 13295, 13297, 13303, 13316, 13319, 13321, 13322, 13332, 13335, 13347, 13348, 13350, 13351, 13356, 13387, 13389, 13395, 13397, 13402, 13406, 13416, 13418, 13419, 13427, 13433, 13435, 13441, 13450, 13453, 13460, 13461, 13469, 13480, 13482, 13489, 13493, 13494, 13495, 13497, 13500, 13502, 13506, 13511, 13517, 13543, 13560, 13562, 13565, 13566, 13573, 13582, 13591, 13592, 13594, 13602, 13603, 13611, 13613, 13615, 13621, 13626, 13645, 13646, 13658, 13671, 13672, 13683, 13686, 13689, 13692, 13698, 13700, 13706, 13711, 13717, 13718, 13722, 13724, 13730, 13737, 13741, 13742, 13745, 13760, 13771, 13781, 13784, 13796, 13809, 13810, 13816, 13820, 13821, 13843, 13856, 13860, 13868, 13878, 13881, 13884, 13892, 13894, 13903, 13907, 13908, 13909, 13916, 13917, 13919, 13924, 13949, 13955, 13960, 13962, 13968, 13973, 13975, 13976, 13978, 13983, 13989, 13992, 13996, 13998, 14000, 14002, 14004, 14007, 14009, 14020, 14021, 14022, 14030, 14035, 14041, 14044, 14050, 14053, 14056, 14057, 14065, 14071, 14076, 14093, 14094, 14104, 14112, 14118, 14125, 14133, 14138, 14140, 14142, 14143, 14153, 14158, 14159, 14168, 14173, 14177, 14187, 14192, 14194, 14209, 14213, 14226, 14237, 14239, 14242, 14262, 14281, 14290, 14291, 14304, 14308, 14316, 14325, 14328, 14339, 14341, 14342, 14351, 14359, 14360, 14363, 14365, 14371, 14380, 14381, 14390, 14392, 14394, 14399, 14402, 14404, 14412, 14422, 14423, 14427, 14429, 14437, 14440, 14443, 14468, 14474, 14478, 14482, 14507, 14508, 14517, 14521, 14523, 14537, 14540, 14543, 14547, 14549, 14555, 14556, 14561, 14563, 14564, 14574, 14586, 14590, 14595, 14598, 14602, 14605, 14616, 14617, 14621, 14623, 14627, 14637, 14648, 14654, 14668, 14669, 14671, 14677, 14678, 14683, 14689, 14690, 14693, 14698, 14699, 14701, 14704, 14713, 14717, 14719, 14725, 14728, 14730, 14735, 14742, 14744, 14747, 14748, 14751, 14758, 14761, 14763, 14764, 14770, 14777, 14778, 14802, 14815, 14823, 14832, 14835, 14847, 14848, 14849, 14863, 14873, 14874, 14884, 14893, 14897, 14899, 14902, 14905, 14907, 14916, 14919, 14924, 14929, 14937, 14938, 14958, 14962, 14970, 14978, 14984, 14986, 14987, 14995, 14997, 14999, 15002, 15022, 15038, 15042, 15045, 15063, 15072, 15081, 15085, 15091, 15096, 15104, 15121, 15130, 15134, 15136, 15144, 15145, 15149, 15150, 15152, 15153, 15163, 15164, 15169, 15177, 15180, 15181, 15183, 15195, 15200, 15201, 15202, 15208, 15222, 15224, 15227, 15228, 15230, 15240, 15265, 15269, 15271, 15276, 15280, 15283, 15289, 15290, 15292, 15295, 15306, 15315, 15336, 15339, 15341, 15351, 15355, 15360, 15364, 15366, 15390, 15395, 15403, 15418, 15421, 15425, 15428, 15432, 15433, 15450, 15452, 15453, 15455, 15463, 15468, 15475, 15480, 15487, 15504, 15514, 15520, 15523, 15532, 15534, 15547, 15550, 15551, 15554, 15555, 15557, 15570, 15581, 15588, 15591, 15599, 15604, 15607, 15613, 15618, 15623, 15630, 15647, 15651, 15663, 15664, 15673, 15675, 15677, 15683, 15704, 15718, 15719, 15720, 15739, 15743, 15746, 15752, 15754, 15756, 15761, 15766, 15770, 15771, 15777, 15778, 15808, 15810, 15811, 15812, 15832, 15835, 15837, 15839, 15846, 15853, 15877, 15879, 15881, 15885, 15886, 15890, 15899, 15901, 15908, 15916, 15917, 15926, 15927, 15930, 15939, 15940, 15941, 15956, 15958, 15960, 15966, 15969, 15979, 15989, 15991, 15993, 15996, 16008, 16019, 16022, 16025, 16026, 16027, 16032, 16033, 16049, 16052, 16056, 16059, 16061, 16074, 16075, 16079, 16082, 16087, 16090, 16092, 16094, 16102, 16105, 16118, 16130, 16155, 16161, 16165, 16169, 16177, 16179, 16182, 16200, 16209, 16213, 16222, 16224, 16226, 16228, 16232, 16236, 16242, 16248, 16253, 16275, 16277, 16284, 16286, 16290, 16305, 16306, 16319, 16322, 16332, 16335, 16351, 16356, 16358, 16368, 16370, 16373, 16375, 16382, 16395, 16404, 16410, 16415, 16419, 16420, 16421, 16427, 16443, 16452, 16453, 16454, 16461, 16467, 16469, 16472, 16492, 16493, 16497, 16500, 16503, 16506, 16511, 16514, 16521, 16526, 16536, 16539, 16548, 16550, 16553, 16558, 16562, 16569, 16583, 16626, 16630, 16631, 16632, 16633, 16636, 16645, 16647, 16648, 16651, 16654, 16672, 16674, 16678, 16685, 16697, 16707, 16730, 16734, 16739, 16759, 16760, 16764, 16768, 16769, 16776, 16785, 16795, 16796, 16799, 16807, 16813, 16821, 16824, 16831, 16847, 16849, 16852, 16856, 16860, 16865, 16867, 16882, 16883, 16884, 16901, 16902, 16922, 16926, 16928, 16937, 16938, 16941, 16942, 16943, 16948, 16949, 16969, 16976, 16977, 16981, 16983, 16987, 16992, 16994, 16996, 16999, 17001, 17023, 17028, 17029, 17035, 17037, 17047, 17050, 17069, 17071, 17078, 17087, 17088, 17107, 17108, 17112, 17113, 17132, 17136, 17137, 17139, 17140, 17141, 17145, 17147, 17149, 17164, 17165, 17166, 17171, 17172, 17189, 17194, 17195, 17196, 17204, 17218, 17219, 17221, 17228, 17229, 17237, 17239, 17242, 17252, 17259, 17273, 17276, 17278, 17282, 17302, 17305, 17306, 17307, 17309, 17318, 17330, 17339, 17345, 17361, 17370, 17373, 17376, 17381, 17386, 17389, 17400, 17409, 17412, 17420, 17427, 17438, 17443, 17447, 17452, 17462, 17479, 17494, 17506, 17507, 17508, 17512, 17517, 17525, 17528, 17530, 17531, 17547, 17553, 17555, 17559, 17560, 17562, 17563, 17572, 17586, 17597, 17602, 17612, 17616, 17617, 17622, 17624, 17629, 17631, 17635, 17637, 17650, 17664, 17665, 17667, 17670, 17674, 17679, 17681, 17684, 17696, 17697, 17708, 17709, 17715, 17724, 17735, 17738, 17740, 17742, 17744, 17745, 17756, 17762, 17781, 17782, 17785, 17791, 17793, 17813, 17821, 17822, 17823, 17827, 17828, 17832, 17840, 17851, 17852, 17853, 17869, 17904, 17905, 17913, 17924, 17927, 17929, 17934, 17951, 17956, 17960, 17963, 17967, 17968, 17969, 17970, 17980, 17985, 17991, 18010, 18016, 18023, 18037, 18046, 18048, 18051, 18052, 18056, 18058, 18065, 18068, 18071, 18072, 18077, 18087, 18091, 18100, 18115, 18128, 18144, 18146, 18154, 18155, 18171, 18174, 18186, 18195, 18200, 18204, 18217, 18234, 18235, 18240, 18242, 18248, 18262, 18267, 18277, 18292, 18293, 18298, 18299, 18309, 18311, 18312, 18317, 18322, 18323, 18325, 18327, 18330, 18341, 18352, 18357, 18362, 18363, 18367, 18373, 18381, 18382, 18388, 18393, 18399, 18400, 18409, 18415, 18425, 18431, 18437, 18443, 18446, 18451, 18484, 18489, 18497, 18500, 18504, 18505, 18509, 18510, 18511, 18532, 18533, 18535, 18539, 18542, 18543, 18544, 18551, 18554, 18565, 18571, 18576, 18581, 18584, 18585, 18599, 18602, 18617, 18627, 18634, 18636, 18645, 18648, 18649, 18650, 18652, 18654, 18683, 18685, 18689, 18691, 18711, 18719, 18724, 18725, 18730, 18755, 18757, 18760, 18761, 18772, 18780, 18793, 18798, 18799, 18800, 18822, 18841, 18845, 18853, 18854, 18857, 18858, 18859, 18860, 18866, 18867, 18873, 18874, 18883, 18899, 18904, 18905, 18908, 18916, 18922, 18926, 18942, 18944, 18947, 18952, 18954, 18960, 18963, 18964, 18967, 18982, 18984, 18990, 18994, 19014, 19025, 19028, 19035, 19038, 19040, 19054, 19055, 19063, 19080, 19092, 19093, 19096, 19098, 19115, 19121, 19122, 19139, 19142, 19150, 19151, 19152, 19154, 19159, 19175, 19176, 19184, 19194, 19200, 19218, 19219, 19225, 19233, 19243, 19244, 19246, 19253, 19260, 19272, 19273, 19286, 19298, 19302, 19304, 19312, 19313, 19315, 19321, 19322, 19324, 19327, 19343, 19347, 19351, 19358, 19363, 19364, 19366, 19376, 19377, 19380, 19382, 19389, 19395, 19396, 19398, 19402, 19407, 19416, 19422, 19429, 19432, 19441, 19459, 19467, 19486, 19487, 19489, 19514, 19517, 19521, 19525, 19528, 19530, 19533, 19534, 19535, 19552, 19553, 19556, 19557, 19561, 19568, 19570, 19579, 19595, 19599, 19602, 19607, 19608, 19629, 19634, 19635, 19637, 19644, 19646, 19647, 19654, 19665, 19666, 19671, 19676, 19678, 19684, 19712, 19719, 19720, 19723, 19732, 19735, 19748, 19751, 19758, 19759, 19769, 19771, 19775, 19783, 19787, 19788, 19802, 19809, 19816, 19818, 19824, 19839, 19843, 19848, 19871, 19876, 19878, 19905, 19908, 19909, 19912, 19931, 19941, 19948, 19950, 19958, 19961, 19969, 19976, 19978, 19981, 19984, 19985, 19986, 19994, 20001, 20006, 20019, 20024, 20026, 20028, 20030, 20039, 20043, 20052, 20061, 20068, 20072, 20074, 20080, 20085, 20092, 20093, 20099, 20123, 20127, 20130, 20138, 20140, 20143, 20154, 20156, 20157, 20160, 20174, 20189, 20191, 20193, 20200, 20205, 20224, 20234, 20241, 20247, 20248, 20249, 20258, 20261, 20262, 20269, 20279, 20285, 20300, 20303, 20304, 20323, 20324, 20330, 20334, 20342, 20349, 20351, 20353, 20365, 20367, 20377, 20379, 20385, 20391, 20395, 20403, 20407, 20413, 20414, 20426, 20427, 20431, 20440, 20451, 20454, 20455, 20459, 20465, 20475, 20489, 20498, 20499, 20504, 20505, 20507, 20511, 20514, 20517, 20526, 20533, 20538, 20547, 20564, 20569, 20585, 20590, 20592, 20603, 20610, 20624, 20634, 20635, 20637, 20650, 20654, 20661, 20664, 20665, 20672, 20673, 20688, 20709, 20713, 20716, 20718, 20727, 20745, 20746, 20748, 20753, 20754, 20760, 20766, 20771, 20782, 20783, 20784, 20787, 20790, 20794, 20801, 20802, 20804, 20805, 20810, 20812, 20815, 20819, 20820, 20842, 20845, 20848, 20853, 20870, 20878, 20883, 20891, 20897, 20899, 20901, 20907, 20915, 20918, 20924, 20932, 20933, 20943, 20947, 20970, 20975, 20979, 20983, 20987, 20988, 20989, 20993, 20997, 20998, 21000, 21025, 21034, 21038, 21039, 21040, 21060, 21074, 21080, 21084, 21088, 21090, 21094, 21101, 21103, 21108, 21109, 21122, 21127, 21130, 21133, 21134, 21140, 21154, 21158, 21166, 21170, 21173, 21176, 21180, 21182, 21187, 21190, 21191, 21193, 21194, 21206, 21210, 21230, 21248, 21260, 21270, 21275, 21276, 21278, 21282, 21283, 21285, 21287, 21292, 21294, 21299, 21302, 21307, 21308, 21313, 21318, 21324, 21336, 21342, 21349, 21351, 21359, 21362, 21365, 21367, 21373, 21374, 21383, 21389, 21390, 21413, 21435, 21436, 21439, 21440, 21446, 21451, 21454, 21462, 21472, 21476, 21485, 21487, 21502, 21505, 21520, 21525, 21542, 21544, 21566, 21568, 21577, 21579, 21582, 21585, 21599, 21600, 21608, 21610, 21615, 21626, 21640, 21642, 21654, 21660, 21663, 21675, 21677, 21682, 21685, 21687, 21693, 21702, 21704, 21731, 21741, 21745, 21758, 21761, 21766, 21771, 21772, 21777, 21781, 21790, 21796, 21801, 21802, 21812, 21824, 21830, 21836, 21841, 21843, 21848, 21852, 21853, 21857, 21862, 21865, 21872, 21874, 21885, 21890, 21901, 21911, 21914, 21917, 21946, 21950, 21962, 21964, 21966, 21971, 21985, 21989, 21990, 21992, 22014, 22021, 22022, 22027, 22028, 22036, 22043, 22050, 22051, 22065, 22067, 22068, 22091, 22096, 22098, 22110, 22111, 22125, 22130, 22138, 22145, 22147, 22150, 22159, 22161, 22163, 22169, 22177, 22185, 22188, 22197, 22199, 22202, 22203, 22220, 22222, 22225, 22227, 22229, 22239, 22245, 22252, 22254, 22263, 22264, 22267, 22272, 22273, 22280, 22290, 22300, 22316, 22321, 22324, 22331, 22332, 22340, 22341, 22342, 22348, 22351, 22353, 22358, 22364, 22369, 22371, 22375, 22379, 22380, 22384, 22411, 22416, 22419, 22420, 22421, 22422, 22432, 22437, 22445, 22452, 22459, 22462, 22466, 22495, 22496, 22509, 22516, 22518, 22519, 22522, 22527, 22531, 22537, 22557, 22558, 22560, 22563, 22570, 22580, 22587, 22600, 22606, 22607, 22616, 22622, 22628, 22632, 22643, 22646, 22652, 22653, 22655, 22663, 22666, 22681, 22683, 22691, 22727, 22740, 22742, 22745, 22760, 22762, 22763, 22768, 22778, 22783, 22787, 22801, 22809, 22817, 22836, 22844, 22846, 22847, 22852, 22866, 22869, 22873, 22878, 22880, 22890, 22898, 22910, 22913, 22915, 22926, 22927, 22929, 22939, 22956, 22968, 22986, 22987, 22989, 23002, 23008, 23012, 23019, 23030, 23033, 23045, 23047, 23058, 23066, 23067, 23073, 23082, 23085, 23091, 23100, 23109, 23110, 23116, 23120, 23127, 23129, 23133, 23138, 23159, 23163, 23167, 23175, 23176, 23194, 23198, 23203, 23205, 23220, 23227, 23235, 23250, 23256, 23257, 23259, 23262, 23291, 23296, 23297, 23300, 23303, 23308, 23309, 23312, 23314, 23316, 23317, 23319, 23328, 23335, 23347, 23376, 23379, 23382, 23385, 23392, 23394, 23395, 23398, 23405, 23406, 23407, 23408, 23409, 23414, 23415, 23417, 23435, 23436, 23440, 23445, 23449, 23455, 23457, 23483, 23484, 23488, 23495, 23497, 23508, 23519, 23526, 23532, 23537, 23551, 23553, 23555, 23558, 23560, 23562, 23563, 23570, 23571, 23577, 23585, 23589, 23603, 23609, 23610, 23611, 23621, 23622, 23624, 23627, 23628, 23636, 23648, 23659, 23666, 23667, 23672, 23674, 23678, 23680, 23681, 23682, 23685, 23687, 23693, 23695, 23706, 23711, 23713, 23740, 23743, 23760, 23775, 23781, 23783, 23785, 23788, 23799, 23801, 23802, 23817, 23818, 23823, 23833, 23835, 23838, 23839, 23841, 23844, 23857, 23866, 23877, 23882, 23897, 23909, 23911, 23915, 23918, 23937, 23942, 23959, 23963, 23964, 23965, 23976, 23991, 23996, 24008, 24012, 24025, 24028, 24034, 24041, 24054, 24064, 24067, 24078, 24081, 24097, 24098, 24110, 24111, 24114, 24117, 24119, 24120, 24121, 24124, 24130, 24133, 24135, 24140, 24149, 24167, 24170, 24175, 24176, 24188, 24196, 24199, 24201, 24205, 24207, 24211, 24224, 24238, 24248, 24259, 24264, 24271, 24274, 24277, 24294, 24300, 24320, 24326, 24327, 24330, 24335, 24345, 24353, 24354, 24359, 24376, 24381, 24383, 24397, 24398, 24410, 24415, 24420, 24437, 24440, 24448, 24451, 24456, 24457, 24467, 24470, 24476, 24479, 24485, 24486, 24491, 24500, 24503, 24510, 24514, 24515, 24524, 24525, 24527, 24529, 24542, 24549, 24568, 24573, 24582, 24607, 24608, 24610, 24621, 24627, 24631, 24639, 24649, 24670, 24672, 24682, 24687, 24691, 24695, 24697, 24700, 24713, 24715, 24717, 24735, 24740, 24750, 24753, 24768, 24769, 24772, 24774, 24777, 24790, 24812, 24818, 24822, 24832, 24833, 24843, 24855, 24856, 24884, 24898, 24902, 24906, 24908, 24909, 24911, 24913, 24938, 24940, 24945, 24961, 24966, 24974, 24993, 24995, 24999, 25005, 25021, 25029, 25033, 25043, 25049, 25065, 25072, 25081, 25082, 25093, 25097, 25103, 25108, 25110, 25117, 25126, 25148, 25155, 25156, 25161, 25163, 25165, 25168, 25170, 25171, 25174, 25176, 25179, 25183, 25186, 25190, 25200, 25210, 25220, 25227, 25228, 25229, 25234, 25242, 25244, 25252, 25261, 25267, 25271, 25279, 25282, 25284, 25285, 25294, 25297, 25299, 25303, 25330, 25331, 25335, 25339, 25341, 25350, 25356, 25358, 25369, 25370, 25373, 25390, 25391, 25393, 25396, 25398, 25404, 25409, 25411, 25432, 25434, 25437, 25439, 25440, 25443, 25448, 25460, 25463, 25464, 25469, 25471, 25473, 25477, 25479, 25490, 25511, 25515, 25518, 25522, 25527, 25536, 25540, 25545, 25548, 25562, 25566, 25570, 25576, 25578, 25585, 25596, 25600, 25604, 25605, 25608, 25611, 25612, 25616, 25620, 25621, 25624, 25631, 25641, 25643, 25644, 25656, 25659, 25660, 25662, 25671, 25680, 25681, 25683, 25692, 25731, 25735, 25749, 25755, 25758, 25769, 25770, 25771, 25774, 25788, 25789, 25791, 25797, 25799, 25800, 25829, 25831, 25835, 25840, 25844, 25855, 25859, 25864, 25866, 25872, 25890, 25899, 25905, 25908, 25911, 25912, 25917, 25937, 25938, 25962, 25974, 25977, 25984, 25991, 25999, 26001, 26003, 26004, 26012, 26016, 26029, 26035, 26044, 26047, 26053, 26055, 26058, 26060, 26067, 26068, 26073, 26075, 26082, 26087, 26095, 26097, 26098, 26104, 26106, 26109, 26112, 26113, 26158, 26167, 26174, 26175, 26182, 26184, 26187, 26190, 26193, 26195, 26203, 26206, 26211, 26214, 26216, 26222, 26225, 26226, 26227, 26234, 26236, 26237, 26239, 26243, 26246, 26252, 26254, 26256, 26259, 26267, 26272, 26275, 26283, 26301, 26304, 26305, 26307, 26310, 26312, 26335, 26336, 26340, 26344, 26349, 26352, 26356, 26360, 26375, 26387, 26398, 26401, 26402, 26426, 26427, 26430, 26436, 26442, 26447, 26451, 26461, 26462, 26466, 26468, 26473, 26475, 26484, 26485, 26492, 26499, 26504, 26515, 26518, 26520, 26540, 26542, 26547, 26554, 26567, 26568, 26583, 26585, 26602, 26610, 26619, 26623, 26625, 26642, 26649, 26657, 26664, 26667, 26692, 26697, 26698, 26701, 26702, 26707, 26711, 26712, 26737, 26746, 26748, 26753, 26754, 26758, 26760, 26762, 26770, 26796, 26809, 26818, 26826, 26834, 26850, 26851, 26856, 26861, 26862, 26874, 26886, 26887, 26895, 26896, 26902, 26915, 26922, 26932, 26934, 26937, 26947, 26949, 26967, 26972, 26975, 26978, 26983, 26986, 26994, 26996, 26998, 27008, 27017, 27018, 27020, 27022, 27025, 27031, 27033, 27034, 27041, 27045, 27050, 27052, 27054, 27064, 27066, 27072, 27081, 27094, 27106, 27114, 27115, 27117, 27118, 27125, 27126, 27134, 27146, 27150, 27151, 27154, 27156, 27163, 27170, 27172, 27175, 27178, 27179, 27187, 27190, 27198, 27225, 27230, 27236, 27248, 27250, 27255, 27256, 27257, 27260, 27264, 27265, 27268, 27270, 27276, 27278, 27282, 27285, 27288, 27299, 27300, 27303, 27306, 27309, 27324, 27329, 27333, 27334, 27337, 27339, 27341, 27344, 27360, 27365, 27370, 27386, 27390, 27401, 27404, 27407, 27413, 27424, 27425, 27444, 27445, 27455, 27457, 27459, 27461, 27463, 27466, 27482, 27484, 27486, 27488, 27489, 27491, 27497, 27514, 27515, 27518, 27521, 27525, 27529, 27531, 27534, 27558, 27567, 27571, 27582, 27587, 27597, 27606, 27613, 27615, 27622, 27628, 27635, 27637, 27653, 27665, 27668, 27695, 27697, 27702, 27705, 27708, 27709, 27716, 27718, 27722, 27724, 27734, 27735, 27736, 27747, 27760, 27770, 27771, 27801, 27804, 27805, 27810, 27815, 27821, 27825, 27827, 27831, 27861, 27867, 27877, 27882, 27883, 27887, 27896, 27898, 27913, 27916, 27927, 27937, 27938, 27940, 27952, 27955, 27964, 27982, 27992, 27996, 27998, 28001, 28011, 28014, 28018, 28019, 28024, 28025, 28028, 28036, 28045, 28047, 28049, 28055, 28056, 28063, 28070, 28096, 28099, 28105, 28119, 28137, 28141, 28143, 28144, 28150, 28156, 28171, 28178, 28187, 28189, 28203, 28204, 28206, 28215, 28224, 28234, 28241, 28242, 28243, 28249, 28251, 28256, 28260, 28273, 28275, 28283, 28285, 28290, 28294, 28296, 28306, 28315, 28331, 28337, 28343, 28345, 28347, 28349, 28359, 28363, 28366, 28372, 28374, 28380, 28392, 28394, 28396, 28410, 28413, 28420, 28422, 28424, 28426, 28428, 28429, 28430, 28432, 28435, 28436, 28447, 28451, 28460, 28472, 28478, 28488, 28490, 28494, 28508, 28512, 28515, 28529, 28530, 28531, 28533, 28539, 28548, 28563, 28584, 28590, 28597, 28598, 28599, 28600, 28606, 28609, 28610, 28611, 28612, 28613, 28630, 28633, 28634, 28638, 28649, 28652, 28653, 28654, 28655, 28663, 28687, 28694, 28701, 28703, 28704, 28706, 28715, 28724, 28731, 28741, 28752, 28761, 28763, 28771, 28772, 28787, 28797, 28799, 28804, 28807, 28815, 28816, 28820, 28821, 28822, 28829, 28830, 28831, 28837, 28842, 28847, 28852, 28853, 28854, 28856, 28857, 28862, 28864, 28870, 28872, 28884, 28892, 28914, 28921, 28923, 28926, 28928, 28929, 28935, 28937, 28938, 28942, 28943, 28946, 28954, 28955, 28956, 28964, 28972, 28974, 28988, 28990, 29000, 29006, 29007, 29008, 29014, 29021, 29022, 29023, 29034, 29037, 29040, 29041, 29045, 29054, 29055, 29059, 29062, 29064, 29067, 29072, 29081, 29086, 29092, 29094, 29097, 29099, 29103, 29104, 29115, 29118, 29122, 29123, 29126, 29132, 29140, 29146, 29152, 29153, 29176, 29181, 29183, 29190, 29194, 29197, 29199, 29201, 29208, 29209, 29225, 29229, 29239, 29247, 29257, 29271, 29281, 29284, 29290, 29291, 29297, 29316, 29320, 29322, 29323, 29336, 29345, 29365, 29372, 29380, 29383, 29384, 29396, 29399, 29400, 29402, 29406, 29408, 29409, 29411, 29412, 29415, 29422, 29436, 29442, 29444, 29448, 29453, 29455, 29457, 29465, 29469, 29471, 29493, 29495, 29496, 29502, 29507, 29515, 29518, 29521, 29522, 29536, 29538, 29539, 29541, 29551, 29563, 29570, 29574, 29577, 29578, 29579, 29580, 29591, 29594, 29597, 29609, 29610, 29623, 29629, 29635, 29639, 29653, 29655, 29659, 29662, 29665, 29667, 29679, 29681, 29682, 29683, 29690, 29705, 29723, 29727, 29728, 29731, 29735, 29740, 29744, 29751, 29765, 29770, 29773, 29774, 29783, 29786, 29787, 29789, 29811, 29814, 29822, 29833, 29843, 29848, 29851, 29855, 29860, 29867, 29869, 29876, 29883, 29888, 29898, 29902, 29903, 29908, 29912, 29920, 29945, 29957, 29968, 29977, 29981, 29983, 29984, 29999, 30004, 30007, 30008, 30010, 30011, 30016, 30022, 30031, 30035, 30049, 30053, 30054, 30055, 30062, 30070, 30076, 30079, 30080, 30082, 30091, 30093, 30096, 30099, 30108, 30111, 30112, 30115, 30117, 30119, 30123, 30129, 30130, 30146, 30147, 30149, 30154, 30171, 30174, 30178, 30185, 30190, 30191, 30199, 30208, 30222, 30227, 30235, 30240, 30245, 30275, 30277, 30296, 30302, 30303, 30306, 30311, 30312, 30324, 30331, 30335, 30341, 30349, 30352, 30370, 30375, 30376, 30378, 30395, 30400, 30403, 30406, 30413, 30415, 30421, 30422, 30423, 30425, 30427, 30435, 30440, 30448, 30452, 30454, 30477, 30480, 30483, 30485, 30489, 30496, 30516, 30519, 30521, 30536, 30539, 30543, 30544, 30564, 30577, 30579, 30582, 30584, 30586, 30590, 30592, 30594, 30595, 30598, 30599, 30600, 30610, 30612, 30615, 30625, 30627, 30639, 30643, 30651, 30657, 30661, 30675, 30676, 30678, 30693, 30694, 30699, 30701, 30706, 30709, 30711, 30714, 30715, 30725, 30733, 30735, 30738, 30751, 30753, 30757, 30764, 30771, 30778, 30779, 30785, 30790, 30795, 30798, 30807, 30818, 30830, 30834, 30837, 30839, 30847, 30855, 30857, 30869, 30875, 30891, 30892, 30896, 30899, 30900, 30914, 30924, 30927, 30939, 30944, 30947, 30950, 30952, 30964, 30965, 30972, 30974, 30987, 30995, 30997, 31000, 31010, 31015, 31016, 31018, 31024, 31025, 31027, 31032, 31033, 31045, 31048, 31060, 31062, 31069, 31073, 31076, 31086, 31096, 31098, 31100, 31106, 31110, 31119, 31128, 31131, 31132, 31133, 31141, 31144, 31150, 31154, 31158, 31176, 31179, 31181, 31186, 31190, 31191, 31197, 31198, 31201, 31202, 31210, 31216, 31218, 31229, 31230, 31236, 31238, 31241, 31254, 31256, 31284, 31289, 31298, 31302, 31306, 31312, 31327, 31328, 31344, 31349, 31353, 31357, 31359, 31360, 31362, 31365, 31367, 31371, 31373, 31385, 31394, 31428, 31458, 31463, 31475, 31485, 31492, 31495, 31496, 31499, 31523, 31533, 31535, 31539, 31548, 31557, 31559, 31569, 31571, 31576, 31583, 31585, 31588, 31594, 31595, 31611, 31623, 31645, 31648, 31652, 31654, 31658, 31676, 31686, 31687, 31695, 31698, 31700, 31706, 31710, 31711, 31721, 31724, 31732, 31742, 31745, 31747, 31750, 31758, 31763, 31772, 31779, 31787, 31790, 31807, 31815, 31821, 31829, 31830, 31833, 31841, 31849, 31866, 31874, 31876, 31878, 31880, 31896, 31899, 31906, 31926, 31927, 31936, 31946, 31949, 31954, 31955, 31958, 31960, 31972, 31976, 31979, 31985, 31987, 31989, 31991, 32004, 32008, 32010, 32016, 32025, 32031, 32039, 32044, 32045, 32053, 32054, 32057, 32063, 32072, 32091, 32093, 32096, 32105, 32117, 32124, 32125, 32133, 32134, 32136, 32142, 32152, 32166, 32167, 32170, 32180, 32181, 32184, 32194, 32202, 32205, 32219, 32227, 32228, 32230, 32234, 32253, 32255, 32260, 32282, 32283, 32295, 32303, 32304, 32324, 32331, 32336, 32341, 32344, 32349, 32359, 32363, 32364, 32370, 32378, 32381, 32387, 32389, 32402, 32406, 32408, 32411, 32415, 32422, 32429, 32440, 32453, 32461, 32463, 32474, 32481, 32482, 32488, 32493, 32496, 32498, 32504, 32507, 32517, 32519, 32521, 32524, 32525, 32530, 32542, 32544, 32546, 32555, 32563, 32564, 32565, 32570, 32577, 32578, 32582, 32590, 32591, 32595, 32596, 32599, 32600, 32601, 32606, 32609, 32611, 32616, 32619, 32626, 32627, 32633, 32639, 32644, 32653, 32659, 32664, 32667, 32668, 32671, 32673, 32674, 32675, 32679, 32699, 32707, 32708, 32709, 32716, 32723, 32733, 32740, 32752, 32756, 32764, 32765, 32771, 32773, 32775, 32785, 32787, 32791, 32793, 32796, 32799, 32800, 32807, 32809, 32815, 32818, 32819, 32830, 32834, 32837, 32855, 32856, 32860, 32861, 32863, 32868, 32869, 32879, 32889, 32892, 32893, 32898, 32899, 32903, 32905, 32909, 32918, 32919, 32923, 32930, 32934, 32939, 32947, 32949, 32956, 32961, 32971, 32972, 32974, 32975, 32978, 32979, 33000, 33004, 33005, 33008, 33009, 33012, 33018, 33019, 33024, 33030, 33050, 33054, 33074, 33078, 33082, 33088, 33092, 33093, 33095, 33103, 33114, 33116, 33123, 33142, 33145, 33148, 33152, 33158, 33163, 33164, 33168, 33169, 33180, 33184, 33190, 33196, 33197, 33214, 33215, 33225, 33238, 33257, 33265, 33274, 33287, 33288, 33290, 33291, 33303, 33311, 33315, 33320, 33327, 33344, 33361, 33378, 33379, 33386, 33393, 33398, 33399, 33411, 33412, 33414, 33416, 33417, 33424, 33427, 33428, 33433, 33440, 33448, 33450, 33459, 33463, 33464, 33470, 33473, 33476, 33483, 33485, 33505, 33511, 33527, 33528, 33534, 33548, 33566, 33578, 33583, 33594, 33612, 33625, 33639, 33642, 33646, 33660, 33666, 33672, 33682, 33688, 33699, 33704, 33708, 33712, 33713, 33715, 33735, 33739, 33745, 33746, 33750, 33753, 33755, 33761, 33765, 33768, 33778, 33780, 33791, 33796, 33804, 33807, 33811, 33817, 33822, 33824, 33834, 33835, 33846, 33847, 33863, 33872, 33881, 33883, 33885, 33889, 33892, 33908, 33914, 33919, 33922, 33923, 33925, 33928, 33945, 33955, 33968, 33971, 33974, 33990, 34015, 34020, 34025, 34035, 34044, 34049, 34054, 34057, 34058, 34061, 34067, 34073, 34080, 34095, 34096, 34097, 34104, 34111, 34112, 34135, 34146, 34152, 34172, 34175, 34178, 34181, 34183, 34187, 34195, 34197, 34204, 34222, 34224, 34225, 34226, 34234, 34239, 34241, 34242, 34248, 34249, 34257, 34259, 34260, 34267, 34275, 34281, 34286, 34290, 34300, 34316, 34324, 34333, 34335, 34339, 34341, 34345, 34346, 34348, 34355, 34364, 34368, 34383, 34397, 34416, 34417, 34430, 34433, 34445, 34455, 34461, 34487, 34498, 34500, 34512, 34516, 34517, 34518, 34529, 34549, 34555, 34556, 34564, 34572, 34579, 34580, 34595, 34604, 34608, 34618, 34626, 34635, 34639, 34642, 34650, 34666, 34674, 34682, 34694, 34708, 34721, 34726, 34729, 34735, 34737, 34757, 34760, 34762, 34783, 34789, 34794, 34796, 34803, 34805, 34807, 34811, 34813, 34827, 34846, 34865, 34870, 34877, 34878, 34879, 34893, 34904, 34906, 34910, 34913, 34915, 34917, 34928, 34934, 34938, 34945, 34948, 34957, 34977, 34980, 34987, 35001, 35002, 35023, 35028, 35036, 35038, 35039, 35046, 35047, 35048, 35051, 35061, 35065, 35077, 35086, 35087, 35089, 35096, 35109, 35117, 35141, 35143, 35150, 35155, 35166, 35167, 35171, 35174, 35175, 35178, 35186, 35189, 35194, 35202, 35205, 35212, 35215, 35219, 35220, 35223, 35224, 35226, 35233, 35247, 35251, 35261, 35262, 35263, 35272, 35283, 35285, 35287, 35299, 35300, 35305, 35323, 35328, 35341, 35352, 35356, 35359, 35361, 35370, 35375, 35379, 35389, 35410, 35412, 35415, 35424, 35437, 35438, 35441, 35444, 35452, 35453, 35455, 35460, 35464, 35471, 35473, 35474, 35476, 35497, 35500, 35504, 35515, 35517, 35520, 35522, 35525, 35532, 35543, 35547, 35548, 35550, 35552, 35553, 35557, 35562, 35564, 35568, 35573, 35583, 35597, 35602, 35608, 35619, 35635, 35646, 35649, 35653, 35660, 35662, 35670, 35678, 35682, 35688, 35692, 35694, 35697, 35710, 35717, 35723, 35728, 35731, 35735, 35738, 35742, 35751, 35753, 35756, 35759, 35760, 35761, 35773, 35777, 35781, 35786, 35793, 35799, 35801, 35808, 35809, 35819, 35833, 35835, 35841, 35844, 35858, 35873, 35882, 35887, 35891, 35912, 35917, 35925, 35927, 35930, 35939, 35940, 35962, 35963, 35975, 35976, 35980, 35985, 35988, 35989, 35991, 35998, 36005, 36006, 36009, 36013, 36017, 36024, 36027, 36032, 36042, 36043, 36045, 36047, 36055, 36057, 36063, 36072, 36077, 36080, 36083, 36086, 36087, 36093, 36094, 36104, 36105, 36112, 36124, 36126, 36132, 36135, 36142, 36150, 36154, 36156, 36162, 36166, 36167, 36168, 36176, 36177, 36178, 36179, 36188, 36191, 36193, 36199, 36210, 36213, 36224, 36228, 36236, 36239, 36241, 36242, 36257, 36264, 36268, 36275, 36285, 36292, 36299, 36300, 36302, 36305, 36307, 36319, 36321, 36325, 36328, 36330, 36338, 36355, 36356, 36365, 36367, 36372, 36374, 36375, 36379, 36381, 36383, 36401, 36402, 36408, 36416, 36418, 36424, 36430, 36432, 36437, 36438, 36439, 36440, 36450, 36460, 36461, 36465, 36470, 36471, 36473, 36477, 36482, 36485, 36490, 36494, 36522, 36530, 36531, 36537, 36538, 36540, 36542, 36548, 36556, 36567, 36608, 36615, 36617, 36619, 36621, 36623, 36625, 36626, 36638, 36660, 36669, 36676, 36678, 36680, 36683, 36687, 36693, 36697, 36703, 36707, 36719, 36730, 36736, 36747, 36749, 36752, 36753, 36764, 36765, 36766, 36769, 36778, 36785, 36789, 36791, 36792, 36797, 36798, 36799, 36801, 36804, 36805, 36808, 36809, 36812, 36816, 36833, 36840, 36843, 36845, 36850, 36859, 36863, 36864, 36865, 36869, 36870, 36872, 36874, 36879, 36887, 36889, 36896, 36897, 36901, 36911, 36912, 36921, 36926, 36930, 36932, 36935, 36943, 36950, 36954, 36955, 36964, 36967, 36975, 36976, 36982, 36992, 36994, 36995, 36999, 37007, 37009, 37010, 37015, 37019, 37026, 37036, 37045, 37046, 37051, 37053, 37057, 37065, 37071, 37079, 37080, 37112, 37113, 37114, 37124, 37125, 37128, 37143, 37156, 37160, 37161, 37170, 37177, 37184, 37185, 37187, 37195, 37216, 37217, 37240, 37248, 37252, 37255, 37257, 37258, 37274, 37277, 37278, 37284, 37287, 37288, 37294, 37303, 37314, 37315, 37329, 37332, 37334, 37344, 37345, 37353, 37354, 37358, 37361, 37365, 37368, 37378, 37379, 37382, 37385, 37387, 37391, 37393, 37396, 37401, 37406, 37409, 37427, 37431, 37440, 37450, 37451, 37464, 37469, 37471, 37473, 37479, 37481, 37482, 37483, 37488, 37492, 37501, 37503, 37507, 37514, 37524, 37529, 37531, 37536, 37546, 37550, 37555, 37557, 37567, 37582, 37583, 37592, 37597, 37606, 37607, 37613, 37620, 37629, 37637, 37644, 37649, 37650, 37652, 37654, 37666, 37675, 37677, 37678, 37683, 37687, 37690, 37694, 37716, 37729, 37732, 37735, 37747, 37751, 37779, 37784, 37785, 37790, 37793, 37796, 37797, 37802, 37807, 37808, 37810, 37826, 37830, 37832, 37834, 37837, 37844, 37845, 37849, 37852, 37863, 37865, 37867, 37870, 37876, 37881, 37901, 37918, 37923, 37933, 37939, 37942, 37953, 37962, 37964, 37969, 37979, 37986, 37995, 38007, 38010, 38012, 38015, 38020, 38028, 38029, 38031, 38042, 38046, 38055, 38076, 38081, 38090, 38102, 38107, 38111, 38119, 38125, 38130, 38133, 38141, 38142, 38144, 38147, 38152, 38156, 38157, 38165, 38170, 38176, 38180, 38188, 38194, 38198, 38200, 38208, 38210, 38213, 38222, 38225, 38226, 38237, 38239, 38248, 38249, 38256, 38259, 38272, 38275, 38280, 38282, 38293, 38294, 38302, 38303, 38308, 38310, 38311, 38325, 38326, 38336, 38337, 38342, 38348, 38366, 38371, 38378, 38383, 38390, 38397, 38405, 38414, 38416, 38417, 38442, 38458, 38461, 38462, 38472, 38473, 38487, 38492, 38497, 38499, 38500, 38509, 38514, 38515, 38517, 38518, 38529, 38533, 38539, 38545, 38546, 38547, 38559, 38574, 38586, 38589, 38590, 38595, 38596, 38608, 38612, 38629, 38631, 38633, 38642, 38647, 38648, 38650, 38657, 38658, 38666, 38679, 38680, 38685, 38687, 38695, 38700, 38708, 38709, 38718, 38720, 38729, 38744, 38751, 38754, 38762, 38769, 38784, 38794, 38809, 38811, 38812, 38814, 38825, 38826, 38828, 38829, 38832, 38835, 38836, 38840, 38845, 38861, 38867, 38868, 38878, 38886, 38895, 38903, 38907, 38912, 38917, 38921, 38923, 38927, 38931, 38933, 38938, 38943, 38944, 38945, 38953, 38959, 38964, 38970, 38972, 38977, 38983, 38990, 38996, 39003, 39008, 39019, 39020, 39030, 39036, 39037, 39043, 39048, 39061, 39081, 39082, 39085, 39095, 39096, 39109, 39110, 39115, 39116, 39134, 39148, 39159, 39171, 39176, 39182, 39185, 39186, 39189, 39198, 39205, 39206, 39209, 39223, 39236, 39246, 39250, 39257, 39260, 39261, 39268, 39269, 39273, 39278, 39293, 39302, 39305, 39306, 39312, 39317, 39333, 39335, 39339, 39346, 39355, 39370, 39379, 39381, 39385, 39390, 39398, 39404, 39411, 39412, 39413, 39415, 39417, 39423, 39429, 39443, 39444, 39447, 39451, 39458, 39461, 39463, 39465, 39472, 39473, 39475, 39477, 39482, 39483, 39496, 39497, 39498, 39512, 39513, 39521, 39525, 39542, 39554, 39558, 39564, 39572, 39578, 39593, 39598, 39607, 39616, 39627, 39630, 39635, 39636, 39641, 39650, 39652, 39654, 39656, 39663, 39676, 39681, 39684, 39690, 39694, 39695, 39698, 39699, 39701, 39705, 39709, 39711, 39713, 39727, 39734, 39747, 39750, 39760, 39769, 39771, 39776, 39777, 39798, 39799, 39809, 39810, 39814, 39816, 39819, 39822, 39823, 39824, 39835, 39837, 39867, 39869, 39875, 39881, 39886, 39890, 39904, 39914, 39924, 39925, 39927, 39935, 39939, 39941, 39943, 39951, 39958, 39962, 39968, 39974, 39990, 40013, 40016, 40020, 40027, 40029, 40032, 40035, 40036, 40038, 40042, 40044, 40054, 40071, 40072, 40074, 40076, 40081, 40082, 40090, 40095, 40100, 40104, 40110, 40111, 40113, 40114, 40130, 40144, 40145, 40147, 40149, 40157, 40168, 40175, 40176, 40178, 40187, 40192, 40196, 40207, 40216, 40220, 40235, 40247, 40250, 40251, 40256, 40258, 40259, 40260, 40261, 40263, 40267, 40277, 40282, 40283, 40286, 40298, 40299, 40300, 40313, 40314, 40315, 40322, 40329, 40331, 40349, 40350, 40351, 40357, 40373, 40382, 40384, 40389, 40396, 40397, 40402, 40404, 40406, 40407, 40412, 40415, 40417, 40419, 40421, 40425, 40430, 40435, 40440, 40454, 40465, 40466, 40474, 40482, 40483, 40484, 40486, 40487, 40504, 40527, 40531, 40535, 40548, 40549, 40550, 40557, 40561, 40566, 40567, 40569, 40579, 40581, 40590, 40592, 40597, 40601, 40603, 40611, 40618, 40619, 40620, 40622, 40631, 40635, 40640, 40645, 40651, 40656, 40659, 40672, 40673, 40682, 40684, 40687, 40688, 40701, 40704, 40716, 40731, 40749, 40759, 40764, 40779, 40788, 40789, 40796, 40802, 40811, 40819, 40828, 40830, 40837, 40852, 40855, 40867, 40876, 40890, 40891, 40897, 40900, 40908, 40926, 40935, 40938, 40939, 40943, 40949, 40957, 40966, 40980, 40992, 40994, 40995]\n"
     ]
    }
   ],
   "source": [
    "false_val = false_predictions(w1, b1, w2, b2)\n",
    "print(false_val)"
   ]
  },
  {
   "cell_type": "code",
   "execution_count": 19,
   "id": "11ebd090dc57196a",
   "metadata": {
    "ExecuteTime": {
     "end_time": "2024-02-22T19:37:04.333331900Z",
     "start_time": "2024-02-22T19:37:04.257984200Z"
    },
    "collapsed": false
   },
   "outputs": [
    {
     "data": {
      "text/plain": [
       "(41000,)"
      ]
     },
     "execution_count": 19,
     "metadata": {},
     "output_type": "execute_result"
    }
   ],
   "source": [
    "Y_train.shape"
   ]
  },
  {
   "cell_type": "code",
   "execution_count": null,
   "id": "ef65792e",
   "metadata": {},
   "outputs": [],
   "source": []
  }
 ],
 "metadata": {
  "kernelspec": {
   "display_name": "Python 3",
   "language": "python",
   "name": "python3"
  },
  "language_info": {
   "codemirror_mode": {
    "name": "ipython",
    "version": 3
   },
   "file_extension": ".py",
   "mimetype": "text/x-python",
   "name": "python",
   "nbconvert_exporter": "python",
   "pygments_lexer": "ipython3",
   "version": "3.10.11"
  }
 },
 "nbformat": 4,
 "nbformat_minor": 5
}
