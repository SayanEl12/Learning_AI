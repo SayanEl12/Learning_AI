{
 "cells": [
  {
   "cell_type": "code",
   "execution_count": 4,
   "id": "initial_id",
   "metadata": {
    "ExecuteTime": {
     "end_time": "2024-02-27T20:05:05.848780900Z",
     "start_time": "2024-02-27T20:05:04.359653Z"
    },
    "collapsed": true
   },
   "outputs": [],
   "source": [
    "import numpy as np\n",
    "import pandas as pd\n",
    "from matplotlib import pyplot as plt"
   ]
  },
  {
   "cell_type": "code",
   "execution_count": 5,
   "id": "7ded5df7da7c202b",
   "metadata": {
    "ExecuteTime": {
     "end_time": "2024-02-27T20:05:11.990610900Z",
     "start_time": "2024-02-27T20:05:10.261894Z"
    },
    "collapsed": false
   },
   "outputs": [
    {
     "name": "stdout",
     "output_type": "stream",
     "text": [
      "(42000, 785)\n"
     ]
    },
    {
     "data": {
      "text/html": [
       "<div>\n",
       "<style scoped>\n",
       "    .dataframe tbody tr th:only-of-type {\n",
       "        vertical-align: middle;\n",
       "    }\n",
       "\n",
       "    .dataframe tbody tr th {\n",
       "        vertical-align: top;\n",
       "    }\n",
       "\n",
       "    .dataframe thead th {\n",
       "        text-align: right;\n",
       "    }\n",
       "</style>\n",
       "<table border=\"1\" class=\"dataframe\">\n",
       "  <thead>\n",
       "    <tr style=\"text-align: right;\">\n",
       "      <th></th>\n",
       "      <th>label</th>\n",
       "      <th>pixel0</th>\n",
       "      <th>pixel1</th>\n",
       "      <th>pixel2</th>\n",
       "      <th>pixel3</th>\n",
       "      <th>pixel4</th>\n",
       "      <th>pixel5</th>\n",
       "      <th>pixel6</th>\n",
       "      <th>pixel7</th>\n",
       "      <th>pixel8</th>\n",
       "      <th>...</th>\n",
       "      <th>pixel774</th>\n",
       "      <th>pixel775</th>\n",
       "      <th>pixel776</th>\n",
       "      <th>pixel777</th>\n",
       "      <th>pixel778</th>\n",
       "      <th>pixel779</th>\n",
       "      <th>pixel780</th>\n",
       "      <th>pixel781</th>\n",
       "      <th>pixel782</th>\n",
       "      <th>pixel783</th>\n",
       "    </tr>\n",
       "  </thead>\n",
       "  <tbody>\n",
       "    <tr>\n",
       "      <th>0</th>\n",
       "      <td>1</td>\n",
       "      <td>0</td>\n",
       "      <td>0</td>\n",
       "      <td>0</td>\n",
       "      <td>0</td>\n",
       "      <td>0</td>\n",
       "      <td>0</td>\n",
       "      <td>0</td>\n",
       "      <td>0</td>\n",
       "      <td>0</td>\n",
       "      <td>...</td>\n",
       "      <td>0</td>\n",
       "      <td>0</td>\n",
       "      <td>0</td>\n",
       "      <td>0</td>\n",
       "      <td>0</td>\n",
       "      <td>0</td>\n",
       "      <td>0</td>\n",
       "      <td>0</td>\n",
       "      <td>0</td>\n",
       "      <td>0</td>\n",
       "    </tr>\n",
       "    <tr>\n",
       "      <th>1</th>\n",
       "      <td>0</td>\n",
       "      <td>0</td>\n",
       "      <td>0</td>\n",
       "      <td>0</td>\n",
       "      <td>0</td>\n",
       "      <td>0</td>\n",
       "      <td>0</td>\n",
       "      <td>0</td>\n",
       "      <td>0</td>\n",
       "      <td>0</td>\n",
       "      <td>...</td>\n",
       "      <td>0</td>\n",
       "      <td>0</td>\n",
       "      <td>0</td>\n",
       "      <td>0</td>\n",
       "      <td>0</td>\n",
       "      <td>0</td>\n",
       "      <td>0</td>\n",
       "      <td>0</td>\n",
       "      <td>0</td>\n",
       "      <td>0</td>\n",
       "    </tr>\n",
       "    <tr>\n",
       "      <th>2</th>\n",
       "      <td>1</td>\n",
       "      <td>0</td>\n",
       "      <td>0</td>\n",
       "      <td>0</td>\n",
       "      <td>0</td>\n",
       "      <td>0</td>\n",
       "      <td>0</td>\n",
       "      <td>0</td>\n",
       "      <td>0</td>\n",
       "      <td>0</td>\n",
       "      <td>...</td>\n",
       "      <td>0</td>\n",
       "      <td>0</td>\n",
       "      <td>0</td>\n",
       "      <td>0</td>\n",
       "      <td>0</td>\n",
       "      <td>0</td>\n",
       "      <td>0</td>\n",
       "      <td>0</td>\n",
       "      <td>0</td>\n",
       "      <td>0</td>\n",
       "    </tr>\n",
       "    <tr>\n",
       "      <th>3</th>\n",
       "      <td>4</td>\n",
       "      <td>0</td>\n",
       "      <td>0</td>\n",
       "      <td>0</td>\n",
       "      <td>0</td>\n",
       "      <td>0</td>\n",
       "      <td>0</td>\n",
       "      <td>0</td>\n",
       "      <td>0</td>\n",
       "      <td>0</td>\n",
       "      <td>...</td>\n",
       "      <td>0</td>\n",
       "      <td>0</td>\n",
       "      <td>0</td>\n",
       "      <td>0</td>\n",
       "      <td>0</td>\n",
       "      <td>0</td>\n",
       "      <td>0</td>\n",
       "      <td>0</td>\n",
       "      <td>0</td>\n",
       "      <td>0</td>\n",
       "    </tr>\n",
       "    <tr>\n",
       "      <th>4</th>\n",
       "      <td>0</td>\n",
       "      <td>0</td>\n",
       "      <td>0</td>\n",
       "      <td>0</td>\n",
       "      <td>0</td>\n",
       "      <td>0</td>\n",
       "      <td>0</td>\n",
       "      <td>0</td>\n",
       "      <td>0</td>\n",
       "      <td>0</td>\n",
       "      <td>...</td>\n",
       "      <td>0</td>\n",
       "      <td>0</td>\n",
       "      <td>0</td>\n",
       "      <td>0</td>\n",
       "      <td>0</td>\n",
       "      <td>0</td>\n",
       "      <td>0</td>\n",
       "      <td>0</td>\n",
       "      <td>0</td>\n",
       "      <td>0</td>\n",
       "    </tr>\n",
       "  </tbody>\n",
       "</table>\n",
       "<p>5 rows × 785 columns</p>\n",
       "</div>"
      ],
      "text/plain": [
       "   label  pixel0  pixel1  pixel2  pixel3  pixel4  pixel5  pixel6  pixel7  \\\n",
       "0      1       0       0       0       0       0       0       0       0   \n",
       "1      0       0       0       0       0       0       0       0       0   \n",
       "2      1       0       0       0       0       0       0       0       0   \n",
       "3      4       0       0       0       0       0       0       0       0   \n",
       "4      0       0       0       0       0       0       0       0       0   \n",
       "\n",
       "   pixel8  ...  pixel774  pixel775  pixel776  pixel777  pixel778  pixel779  \\\n",
       "0       0  ...         0         0         0         0         0         0   \n",
       "1       0  ...         0         0         0         0         0         0   \n",
       "2       0  ...         0         0         0         0         0         0   \n",
       "3       0  ...         0         0         0         0         0         0   \n",
       "4       0  ...         0         0         0         0         0         0   \n",
       "\n",
       "   pixel780  pixel781  pixel782  pixel783  \n",
       "0         0         0         0         0  \n",
       "1         0         0         0         0  \n",
       "2         0         0         0         0  \n",
       "3         0         0         0         0  \n",
       "4         0         0         0         0  \n",
       "\n",
       "[5 rows x 785 columns]"
      ]
     },
     "execution_count": 5,
     "metadata": {},
     "output_type": "execute_result"
    }
   ],
   "source": [
    "data = pd.read_csv(\"Data/train.csv\")\n",
    "data_C = data.copy()\n",
    "print(data.shape)\n",
    "data.head()"
   ]
  },
  {
   "cell_type": "code",
   "execution_count": 6,
   "id": "ab1f71c1533eec91",
   "metadata": {
    "ExecuteTime": {
     "end_time": "2024-02-22T19:36:06.732113100Z",
     "start_time": "2024-02-22T19:36:04.935869700Z"
    },
    "collapsed": false
   },
   "outputs": [],
   "source": [
    "# DATA\n",
    "data = data_C\n",
    "data = np.array(data)\n",
    "m, n = data.shape\n",
    "np.random.shuffle(data)\n",
    "\n",
    "data_dev = data[0:1000].T\n",
    "Y_dev = data_dev[0]\n",
    "X_dev = data_dev[1:n]\n",
    "X_dev = X_dev / 255.\n",
    "\n",
    "data_train = data[1000:m].T\n",
    "Y_train = data_train[0]\n",
    "X_train = data_train[1:n]\n",
    "X_train = X_train / 255."
   ]
  },
  {
   "cell_type": "code",
   "execution_count": 7,
   "id": "7ee7c2e66917c657",
   "metadata": {
    "ExecuteTime": {
     "end_time": "2024-02-22T19:36:06.737894400Z",
     "start_time": "2024-02-22T19:36:06.621368600Z"
    },
    "collapsed": false
   },
   "outputs": [],
   "source": [
    "def init_params():\n",
    "     w1 = np.random.rand(10, 784)\n",
    "     b1 = np.random.rand(10, 1)\n",
    "     w2 = np.random.rand(10, 10)\n",
    "     b2 = np.random.rand(10, 1)\n",
    "     return w1, b1, w2, b2\n",
    "\n",
    "def ReLU(z):\n",
    "     return np.maximum(0, z)\n",
    "\n",
    "def sigmoid(z):\n",
    "     return 1 / (1 + np.exp(-z))\n",
    "\n",
    "def forward_prop(w1, b1, w2, b2, X):\n",
    "     z1 = w1.dot(X) + b1\n",
    "     a1 = ReLU(z1)\n",
    "     z2 = w2.dot(a1) + b2\n",
    "     a2 = sigmoid(z2)\n",
    "     return z1, a1, z2, a2\n",
    "\n",
    "def one_hot(y):\n",
    "     one_hot_Y = np.zeros((y.size, y.max() + 1))\n",
    "     one_hot_Y[np.arange(y.size), y] = 1\n",
    "     one_hot_Y = one_hot_Y.T\n",
    "     return one_hot_Y\n",
    "\n",
    "def deriv_ReLU(z):\n",
    "     return z > 0\n",
    "def deriv_sigmoid(z):  \n",
    "     return sigmoid(z) * (1 - sigmoid(z))\n",
    "\n",
    "def back_prop(z1, a1, z2, a2, w2, x, y):\n",
    "     np.set_printoptions(formatter={'float':'{:.5f}'.format})\n",
    "     m = y.size\n",
    "     yr = one_hot(y)\n",
    "     cost = (a2 - yr)\n",
    "     db2  = 1/m * np.sum(cost, axis=1).reshape(-1, 1)\n",
    "     dw2 = 1/m * cost.dot(a1.T)\n",
    "     dE1 = w2.T.dot(cost) * deriv_ReLU(z1)\n",
    "     db1  = 1/m * np.sum(dE1, axis=1).reshape(-1, 1)\n",
    "     dw1 = 1/m * dE1.dot(x.T)\n",
    "     return dw1, db1 ,dw2 ,db2\n",
    "\n",
    "def update_params(w1, b1, w2, b2, dw1, db1 ,dw2 ,db2, alpha):\n",
    "     w1 = w1 - alpha * dw1\n",
    "     b1 = b1 - alpha * db1\n",
    "     w2 = w2 - alpha * dw2\n",
    "     b2 = b2 - alpha * db2\n",
    "     return w1, b1, w2, b2\n",
    "     "
   ]
  },
  {
   "cell_type": "code",
   "execution_count": 8,
   "id": "5435dbf2eb5fcc3e",
   "metadata": {
    "ExecuteTime": {
     "end_time": "2024-02-22T19:36:06.860692700Z",
     "start_time": "2024-02-22T19:36:06.645358600Z"
    },
    "collapsed": false
   },
   "outputs": [],
   "source": [
    "def get_accuracy(predictions, y):\n",
    "     return np.sum(predictions == y) / y.size\n",
    "\n",
    "def get_predictions(a2):\n",
    "     return np.argmax(a2, 0)\n",
    "\n",
    "def gradient_descent(x, y, iterations, alpha):\n",
    "     w1, b1 ,w2, b2 = init_params()\n",
    "     for i in range(iterations):\n",
    "          z1, a1, z2, a2, = forward_prop(w1, b1, w2, b2, x)\n",
    "          dw1, db1, dw2, db2 = back_prop(z1, a1, z2, a2, w2, x, y)\n",
    "          w1, b1 ,w2, b2 = update_params(w1, b1, w2, b2, dw1, db1 ,dw2 ,db2, alpha)\n",
    "          if i % 50 == 0:\n",
    "               print(\"Iteration:\", i)\n",
    "               crnt_accuracy = get_accuracy(get_predictions(a2), y)*100\n",
    "               crnt_accuracy_fomt = '{:.2f}'.format(crnt_accuracy)\n",
    "               print(\"accuracy with train data: \",crnt_accuracy_fomt, \"%\")\n",
    "               print(\"accuracy with dev data: \",crnt_accuracy_fomt, \"%\\n\")\n",
    "     return w1, b1, w2, b2"
   ]
  },
  {
   "cell_type": "code",
   "execution_count": 9,
   "id": "e4d54fd2abad86fb",
   "metadata": {
    "ExecuteTime": {
     "end_time": "2024-02-22T19:37:03.255924Z",
     "start_time": "2024-02-22T19:36:06.668433100Z"
    },
    "collapsed": false
   },
   "outputs": [
    {
     "name": "stdout",
     "output_type": "stream",
     "text": [
      "Iteration: 0\n",
      "accuracy with train data:  9.84 %\n",
      "accuracy with dev data:  9.84 %\n",
      "\n"
     ]
    },
    {
     "name": "stderr",
     "output_type": "stream",
     "text": [
      "C:\\Users\\Sayan\\AppData\\Local\\Temp\\ipykernel_21028\\62906872.py:12: RuntimeWarning: overflow encountered in exp\n",
      "  return 1 / (1 + np.exp(-z))\n"
     ]
    },
    {
     "name": "stdout",
     "output_type": "stream",
     "text": [
      "Iteration: 50\n",
      "accuracy with train data:  36.76 %\n",
      "accuracy with dev data:  36.76 %\n",
      "\n",
      "Iteration: 100\n",
      "accuracy with train data:  53.58 %\n",
      "accuracy with dev data:  53.58 %\n",
      "\n",
      "Iteration: 150\n",
      "accuracy with train data:  62.62 %\n",
      "accuracy with dev data:  62.62 %\n",
      "\n",
      "Iteration: 200\n",
      "accuracy with train data:  67.80 %\n",
      "accuracy with dev data:  67.80 %\n",
      "\n",
      "Iteration: 250\n",
      "accuracy with train data:  73.09 %\n",
      "accuracy with dev data:  73.09 %\n",
      "\n",
      "Iteration: 300\n",
      "accuracy with train data:  76.27 %\n",
      "accuracy with dev data:  76.27 %\n",
      "\n",
      "Iteration: 350\n",
      "accuracy with train data:  76.60 %\n",
      "accuracy with dev data:  76.60 %\n",
      "\n",
      "Iteration: 400\n",
      "accuracy with train data:  78.99 %\n",
      "accuracy with dev data:  78.99 %\n",
      "\n",
      "Iteration: 450\n",
      "accuracy with train data:  79.86 %\n",
      "accuracy with dev data:  79.86 %\n",
      "\n",
      "Iteration: 500\n",
      "accuracy with train data:  80.62 %\n",
      "accuracy with dev data:  80.62 %\n",
      "\n",
      "Iteration: 550\n",
      "accuracy with train data:  81.60 %\n",
      "accuracy with dev data:  81.60 %\n",
      "\n",
      "Iteration: 600\n",
      "accuracy with train data:  82.42 %\n",
      "accuracy with dev data:  82.42 %\n",
      "\n",
      "Iteration: 650\n",
      "accuracy with train data:  82.80 %\n",
      "accuracy with dev data:  82.80 %\n",
      "\n",
      "Iteration: 700\n",
      "accuracy with train data:  83.34 %\n",
      "accuracy with dev data:  83.34 %\n",
      "\n",
      "Iteration: 750\n",
      "accuracy with train data:  83.80 %\n",
      "accuracy with dev data:  83.80 %\n",
      "\n"
     ]
    }
   ],
   "source": [
    "w1, b1, w2, b2 = gradient_descent(X_train, Y_train, 800, 0.05)"
   ]
  },
  {
   "cell_type": "code",
   "execution_count": 10,
   "id": "b01c7c58bc9e044e",
   "metadata": {
    "ExecuteTime": {
     "end_time": "2024-02-22T19:37:03.276466600Z",
     "start_time": "2024-02-22T19:37:03.257983900Z"
    },
    "collapsed": false
   },
   "outputs": [],
   "source": [
    "def make_predictions(X, w1, b1, w2, b2):\n",
    "    _, _, _, A2 = forward_prop(w1, b1, w2, b2, X)\n",
    "    predictions = get_predictions(A2)\n",
    "    return predictions\n",
    "def test_prediction(index, w1, b1, w2, b2):\n",
    "    current_image = X_train[:, index, None]\n",
    "    prediction = make_predictions(X_train[:, index, None], w1, b1, w2, b2)\n",
    "    label = Y_train[index]\n",
    "    print(\"Prediction: \", prediction)\n",
    "    print(\"Label: \", label)\n",
    "    \n",
    "    current_image = current_image.reshape((28, 28)) * 255\n",
    "    plt.gray()\n",
    "    plt.imshow(current_image, interpolation='nearest')\n",
    "    plt.show()\n",
    "    \n",
    "def false_predictions(w1, b1, w2, b2):\n",
    "    values = []\n",
    "    for index in range(X_train.shape[1]):\n",
    "         prediction = make_predictions(X_train[:, index, None], w1, b1, w2, b2)\n",
    "         label = Y_train[index]\n",
    "         if prediction[0] != label:\n",
    "             values.append(index)\n",
    "    return values\n",
    "         "
   ]
  },
  {
   "cell_type": "code",
   "execution_count": 11,
   "id": "edef9a6d696085c8",
   "metadata": {
    "ExecuteTime": {
     "end_time": "2024-02-22T19:38:15.011981800Z",
     "start_time": "2024-02-22T19:38:14.899289700Z"
    },
    "collapsed": false
   },
   "outputs": [
    {
     "name": "stdout",
     "output_type": "stream",
     "text": [
      "Prediction:  [6]\n",
      "Label:  6\n"
     ]
    },
    {
     "data": {
      "image/png": "[encoded data removed]",
      "text/plain": [
       "<Figure size 640x480 with 1 Axes>"
      ]
     },
     "metadata": {},
     "output_type": "display_data"
    }
   ],
   "source": [
    "test_prediction(100, w1, b1, w2, b2)\n",
    "#test_prediction(1, w1, b1, w2, b2)\n",
    "#test_prediction(2, w1, b1, w2, b2)\n",
    "#test_prediction(3, w1, b1, w2, b2)"
   ]
  },
  {
   "cell_type": "code",
   "execution_count": 12,
   "id": "b3dee9d2ba7cac46",
   "metadata": {
    "ExecuteTime": {
     "end_time": "2024-02-22T19:37:04.256977400Z",
     "start_time": "2024-02-22T19:37:03.475282400Z"
    },
    "collapsed": false
   },
   "outputs": [
    {
     "name": "stdout",
     "output_type": "stream",
     "text": [
      "[5, 7, 8, 15, 18, 26, 42, 55, 57, 61, 72, 80, 96, 97, 102, 107, 121, 134, 139, 149, 154, 158, 161, 165, 177, 179, 183, 186, 198, 223, 242, 245, 255, 264, 267, 275, 279, 291, 292, 294, 301, 305, 307, 318, 324, 336, 339, 342, 344, 349, 351, 355, 356, 365, 368, 373, 380, 385, 387, 394, 398, 400, 407, 408, 415, 428, 443, 447, 450, 452, 453, 460, 478, 486, 493, 502, 506, 520, 523, 541, 553, 566, 575, 580, 582, 583, 588, 604, 606, 608, 614, 615, 618, 625, 638, 657, 661, 668, 670, 683, 685, 693, 696, 697, 705, 710, 716, 723, 727, 742, 756, 759, 767, 771, 772, 784, 785, 787, 789, 793, 795, 798, 802, 804, 809, 811, 813, 814, 819, 822, 826, 834, 835, 866, 884, 885, 887, 894, 896, 904, 905, 921, 929, 932, 938, 944, 945, 947, 949, 950, 959, 961, 966, 979, 980, 985, 1001, 1004, 1015, 1019, 1039, 1045, 1048, 1067, 1072, 1073, 1075, 1078, 1081, 1091, 1096, 1105, 1117, 1126, 1141, 1150, 1151, 1153, 1160, 1166, 1184, 1185, 1191, 1196, 1197, 1202, 1214, 1215, 1216, 1227, 1230, 1232, 1245, 1253, 1254, 1260, 1261, 1262, 1272, 1281, 1291, 1296, 1297, 1298, 1302, 1307, 1308, 1311, 1319, 1328, 1329, 1331, 1332, 1335, 1345, 1363, 1367, 1370, 1372, 1375, 1376, 1377, 1381, 1390, 1391, 1392, 1396, 1400, 1406, 1407, 1409, 1412, 1418, 1428, 1433, 1435, 1437, 1441, 1443, 1454, 1458, 1469, 1471, 1479, 1480, 1489, 1492, 1494, 1498, 1500, 1503, 1507, 1512, 1516, 1520, 1521, 1526, 1532, 1533, 1534, 1535, 1542, 1568, 1575, 1578, 1581, 1595, 1600, 1603, 1605, 1608, 1610, 1627, 1632, 1635, 1637, 1644, 1653, 1657, 1658, 1662, 1665, 1673, 1678, 1683, 1704, 1717, 1723, 1724, 1730, 1737, 1738, 1742, 1751, 1753, 1758, 1769, 1783, 1784, 1792, 1798, 1803, 1806, 1810, 1818, 1820, 1821, 1826, 1830, 1845, 1862, 1866, 1877, 1881, 1882, 1886, 1892, 1900, 1901, 1933, 1940, 1948, 1949, 1969, 1971, 1972, 1977, 1978, 1980, 1981, 1985, 1999, 2008, 2015, 2029, 2048, 2050, 2055, 2064, 2076, 2077, 2080, 2086, 2098, 2111, 2116, 2119, 2126, 2128, 2142, 2147, 2148, 2151, 2156, 2159, 2163, 2165, 2180, 2188, 2189, 2190, 2198, 2203, 2219, 2250, 2252, 2253, 2258, 2261, 2301, 2302, 2308, 2309, 2322, 2323, 2331, 2352, 2353, 2365, 2366, 2370, 2375, 2380, 2382, 2387, 2392, 2393, 2395, 2396, 2399, 2400, 2414, 2435, 2453, 2455, 2470, 2477, 2478, 2480, 2481, 2483, 2492, 2497, 2498, 2507, 2509, 2527, 2535, 2536, 2548, 2552, 2558, 2564, 2567, 2568, 2574, 2575, 2585, 2592, 2599, 2605, 2607, 2609, 2615, 2622, 2629, 2635, 2653, 2661, 2665, 2668, 2676, 2678, 2685, 2686, 2693, 2694, 2697, 2699, 2713, 2720, 2731, 2733, 2735, 2736, 2739, 2743, 2750, 2762, 2790, 2798, 2810, 2814, 2821, 2842, 2843, 2845, 2848, 2859, 2872, 2874, 2895, 2901, 2908, 2910, 2917, 2918, 2925, 2931, 2932, 2940, 2943, 2963, 2969, 2976, 2983, 2984, 2986, 2987, 2992, 2995, 2998, 3006, 3009, 3014, 3021, 3028, 3032, 3040, 3042, 3051, 3061, 3077, 3085, 3093, 3094, 3104, 3105, 3110, 3112, 3118, 3125, 3126, 3139, 3144, 3163, 3178, 3181, 3187, 3203, 3206, 3207, 3215, 3224, 3230, 3231, 3232, 3240, 3244, 3247, 3268, 3269, 3272, 3281, 3289, 3293, 3294, 3310, 3338, 3342, 3350, 3352, 3361, 3364, 3369, 3373, 3376, 3389, 3394, 3398, 3403, 3406, 3408, 3411, 3412, 3415, 3419, 3426, 3433, 3436, 3442, 3454, 3457, 3462, 3468, 3472, 3475, 3480, 3484, 3485, 3489, 3499, 3509, 3514, 3515, 3519, 3525, 3528, 3532, 3548, 3549, 3552, 3557, 3559, 3566, 3571, 3574, 3581, 3583, 3591, 3603, 3607, 3609, 3610, 3615, 3621, 3623, 3638, 3648, 3658, 3667, 3681, 3687, 3697, 3702, 3703, 3708, 3711, 3713, 3719, 3725, 3737, 3744, 3764, 3770, 3779, 3781, 3797, 3802, 3806, 3808, 3816, 3826, 3840, 3861, 3865, 3872, 3878, 3886, 3889, 3891, 3905, 3917, 3918, 3927, 3933, 3935, 3941, 3971, 3977, 3987, 3990, 3991, 3996, 4000, 4016, 4025, 4027, 4034, 4042, 4044, 4052, 4057, 4067, 4072, 4076, 4086, 4113, 4118, 4119, 4130, 4140, 4141, 4153, 4161, 4162, 4189, 4191, 4194, 4196, 4200, 4202, 4216, 4222, 4241, 4242, 4247, 4250, 4252, 4256, 4266, 4271, 4272, 4274, 4289, 4293, 4301, 4302, 4315, 4324, 4328, 4336, 4340, 4341, 4342, 4353, 4360, 4368, 4378, 4402, 4412, 4413, 4440, 4443, 4448, 4466, 4481, 4493, 4496, 4499, 4505, 4506, 4508, 4511, 4527, 4535, 4548, 4553, 4554, 4556, 4560, 4569, 4573, 4574, 4594, 4609, 4615, 4623, 4631, 4643, 4659, 4660, 4675, 4676, 4680, 4687, 4703, 4719, 4720, 4730, 4733, 4739, 4743, 4750, 4752, 4754, 4757, 4764, 4778, 4782, 4790, 4798, 4801, 4802, 4803, 4809, 4810, 4812, 4817, 4820, 4825, 4827, 4850, 4866, 4880, 4888, 4895, 4911, 4914, 4917, 4920, 4922, 4924, 4926, 4931, 4934, 4936, 4954, 4956, 4962, 4963, 4975, 4977, 4979, 4988, 4989, 5001, 5003, 5006, 5007, 5015, 5017, 5036, 5040, 5046, 5047, 5062, 5066, 5068, 5076, 5082, 5087, 5092, 5093, 5098, 5100, 5105, 5118, 5135, 5140, 5146, 5149, 5150, 5154, 5156, 5162, 5180, 5183, 5185, 5187, 5202, 5206, 5210, 5219, 5220, 5223, 5234, 5282, 5294, 5303, 5310, 5316, 5317, 5326, 5334, 5339, 5343, 5347, 5350, 5370, 5373, 5378, 5388, 5401, 5403, 5404, 5411, 5415, 5418, 5419, 5421, 5426, 5428, 5435, 5442, 5460, 5462, 5470, 5482, 5487, 5489, 5491, 5495, 5499, 5503, 5511, 5514, 5522, 5528, 5546, 5552, 5556, 5565, 5568, 5572, 5573, 5576, 5578, 5593, 5599, 5605, 5611, 5618, 5621, 5630, 5642, 5646, 5663, 5679, 5686, 5689, 5693, 5696, 5712, 5720, 5724, 5726, 5740, 5744, 5747, 5750, 5753, 5761, 5766, 5773, 5774, 5782, 5783, 5788, 5792, 5798, 5799, 5803, 5810, 5814, 5828, 5837, 5841, 5842, 5847, 5856, 5859, 5860, 5864, 5873, 5875, 5883, 5887, 5901, 5905, 5908, 5915, 5927, 5930, 5932, 5933, 5935, 5941, 5945, 5960, 5963, 5992, 6002, 6008, 6010, 6011, 6017, 6025, 6033, 6035, 6037, 6044, 6068, 6071, 6081, 6086, 6092, 6097, 6100, 6104, 6108, 6127, 6132, 6135, 6139, 6141, 6145, 6155, 6166, 6170, 6171, 6178, 6184, 6186, 6198, 6207, 6214, 6229, 6245, 6248, 6250, 6251, 6256, 6257, 6258, 6260, 6268, 6270, 6272, 6290, 6291, 6299, 6301, 6305, 6306, 6310, 6312, 6313, 6315, 6318, 6322, 6324, 6328, 6329, 6332, 6333, 6335, 6337, 6340, 6342, 6344, 6364, 6366, 6378, 6388, 6408, 6410, 6414, 6420, 6429, 6434, 6457, 6460, 6461, 6474, 6476, 6486, 6503, 6511, 6516, 6526, 6527, 6536, 6537, 6554, 6555, 6558, 6564, 6569, 6570, 6575, 6578, 6587, 6595, 6613, 6614, 6625, 6627, 6629, 6633, 6638, 6641, 6643, 6644, 6650, 6660, 6667, 6670, 6674, 6679, 6705, 6708, 6709, 6714, 6715, 6718, 6719, 6728, 6734, 6737, 6746, 6748, 6754, 6766, 6773, 6791, 6795, 6799, 6805, 6823, 6825, 6830, 6836, 6839, 6846, 6848, 6853, 6855, 6856, 6858, 6860, 6863, 6864, 6870, 6872, 6884, 6888, 6889, 6890, 6902, 6905, 6906, 6907, 6908, 6909, 6914, 6916, 6918, 6946, 6956, 6960, 6961, 6962, 6970, 6977, 6987, 7018, 7031, 7045, 7053, 7056, 7059, 7085, 7109, 7131, 7139, 7146, 7164, 7176, 7177, 7180, 7193, 7197, 7206, 7214, 7230, 7233, 7236, 7240, 7243, 7245, 7249, 7252, 7254, 7256, 7264, 7271, 7276, 7277, 7280, 7296, 7301, 7307, 7309, 7310, 7318, 7334, 7336, 7343, 7346, 7350, 7353, 7355, 7374, 7378, 7380, 7383, 7385, 7396, 7405, 7406, 7409, 7412, 7415, 7419, 7424, 7427, 7429, 7434, 7435, 7438, 7443, 7453, 7472, 7474, 7497, 7505, 7513, 7515, 7518, 7519, 7530, 7556, 7557, 7562, 7565, 7569, 7578, 7584, 7589, 7595, 7604, 7631, 7642, 7649, 7650, 7652, 7665, 7682, 7683, 7691, 7702, 7704, 7707, 7746, 7747, 7748, 7775, 7785, 7789, 7793, 7798, 7809, 7814, 7820, 7824, 7827, 7830, 7831, 7832, 7846, 7849, 7856, 7857, 7868, 7873, 7876, 7878, 7884, 7887, 7888, 7894, 7907, 7909, 7918, 7920, 7921, 7924, 7928, 7933, 7934, 7943, 7947, 7952, 7965, 7966, 7967, 7975, 7977, 7980, 7983, 7984, 7990, 7991, 8017, 8023, 8044, 8055, 8064, 8069, 8071, 8079, 8081, 8087, 8088, 8095, 8097, 8101, 8104, 8106, 8108, 8109, 8123, 8124, 8125, 8126, 8127, 8137, 8144, 8147, 8151, 8152, 8159, 8180, 8196, 8198, 8202, 8210, 8217, 8228, 8237, 8241, 8242, 8249, 8251, 8262, 8266, 8273, 8281, 8282, 8286, 8288, 8304, 8306, 8314, 8325, 8329, 8337, 8338, 8339, 8345, 8346, 8350, 8357, 8358, 8362, 8365, 8371, 8378, 8381, 8385, 8392, 8398, 8402, 8422, 8439, 8443, 8449, 8451, 8464, 8465, 8485, 8486, 8498, 8511, 8513, 8515, 8516, 8525, 8528, 8537, 8540, 8543, 8550, 8551, 8556, 8557, 8559, 8575, 8586, 8594, 8612, 8615, 8629, 8630, 8639, 8644, 8651, 8652, 8657, 8660, 8662, 8667, 8672, 8674, 8678, 8679, 8680, 8685, 8693, 8697, 8709, 8710, 8712, 8713, 8719, 8725, 8727, 8734, 8736, 8737, 8752, 8756, 8757, 8758, 8761, 8768, 8769, 8771, 8782, 8786, 8797, 8808, 8814, 8816, 8820, 8828, 8842, 8848, 8853, 8856, 8859, 8863, 8872, 8874, 8881, 8885, 8886, 8895, 8901, 8903, 8909, 8941, 8951, 8953, 8955, 8957, 8972, 8978, 8981, 8984, 8986, 9008, 9012, 9023, 9030, 9034, 9042, 9045, 9055, 9059, 9066, 9069, 9070, 9080, 9083, 9089, 9095, 9096, 9099, 9102, 9125, 9143, 9150, 9151, 9154, 9158, 9161, 9168, 9170, 9171, 9175, 9182, 9189, 9195, 9196, 9205, 9207, 9210, 9221, 9223, 9225, 9236, 9245, 9249, 9256, 9270, 9271, 9275, 9277, 9280, 9296, 9298, 9302, 9305, 9312, 9316, 9317, 9325, 9343, 9346, 9351, 9359, 9360, 9366, 9370, 9374, 9379, 9383, 9391, 9396, 9402, 9410, 9422, 9424, 9425, 9426, 9431, 9438, 9442, 9448, 9465, 9470, 9478, 9488, 9498, 9504, 9509, 9517, 9518, 9527, 9530, 9538, 9549, 9550, 9552, 9559, 9561, 9562, 9569, 9571, 9572, 9573, 9579, 9587, 9588, 9590, 9593, 9599, 9601, 9604, 9605, 9610, 9623, 9655, 9658, 9659, 9678, 9683, 9686, 9691, 9696, 9698, 9700, 9711, 9713, 9716, 9738, 9739, 9744, 9745, 9748, 9752, 9754, 9755, 9756, 9757, 9767, 9776, 9782, 9797, 9805, 9807, 9815, 9816, 9817, 9818, 9834, 9838, 9840, 9845, 9847, 9853, 9855, 9860, 9878, 9879, 9888, 9891, 9897, 9901, 9902, 9904, 9909, 9918, 9920, 9921, 9926, 9933, 9935, 9937, 9942, 9952, 9957, 9958, 9969, 9974, 9979, 9987, 9991, 9996, 9999, 10001, 10010, 10015, 10020, 10025, 10045, 10051, 10064, 10067, 10070, 10079, 10085, 10088, 10093, 10105, 10120, 10121, 10129, 10130, 10142, 10152, 10162, 10163, 10167, 10189, 10198, 10201, 10204, 10218, 10221, 10224, 10255, 10258, 10260, 10272, 10279, 10280, 10284, 10285, 10286, 10289, 10302, 10316, 10321, 10328, 10332, 10337, 10368, 10382, 10387, 10395, 10409, 10414, 10420, 10423, 10431, 10435, 10438, 10449, 10452, 10463, 10464, 10466, 10475, 10480, 10485, 10489, 10492, 10504, 10520, 10537, 10543, 10546, 10549, 10556, 10565, 10570, 10582, 10585, 10594, 10607, 10614, 10625, 10627, 10635, 10644, 10646, 10652, 10664, 10667, 10670, 10679, 10693, 10717, 10725, 10728, 10733, 10734, 10737, 10741, 10757, 10760, 10773, 10777, 10781, 10786, 10796, 10806, 10811, 10820, 10824, 10825, 10835, 10844, 10864, 10884, 10893, 10894, 10898, 10905, 10914, 10915, 10918, 10921, 10924, 10934, 10938, 10940, 10946, 10948, 10949, 10953, 10975, 10981, 11009, 11029, 11030, 11033, 11051, 11060, 11069, 11076, 11077, 11097, 11102, 11103, 11106, 11117, 11120, 11129, 11137, 11143, 11151, 11153, 11162, 11169, 11171, 11177, 11181, 11192, 11198, 11202, 11228, 11231, 11233, 11235, 11240, 11263, 11270, 11274, 11276, 11282, 11290, 11306, 11313, 11317, 11328, 11331, 11335, 11344, 11351, 11357, 11363, 11375, 11378, 11387, 11404, 11405, 11413, 11415, 11417, 11422, 11432, 11437, 11440, 11451, 11452, 11458, 11471, 11473, 11474, 11475, 11476, 11478, 11485, 11496, 11500, 11507, 11508, 11520, 11522, 11527, 11528, 11535, 11536, 11544, 11545, 11548, 11550, 11553, 11558, 11563, 11566, 11568, 11575, 11581, 11583, 11597, 11609, 11615, 11626, 11628, 11631, 11634, 11646, 11647, 11649, 11658, 11664, 11673, 11675, 11688, 11690, 11691, 11706, 11708, 11709, 11717, 11719, 11727, 11737, 11739, 11741, 11760, 11762, 11764, 11771, 11773, 11777, 11794, 11802, 11812, 11814, 11827, 11833, 11840, 11842, 11849, 11857, 11861, 11862, 11863, 11872, 11886, 11893, 11904, 11909, 11918, 11920, 11922, 11928, 11935, 11938, 11943, 11955, 11967, 11973, 11984, 11991, 12008, 12019, 12020, 12023, 12040, 12043, 12044, 12048, 12058, 12072, 12078, 12091, 12095, 12115, 12116, 12123, 12126, 12127, 12129, 12130, 12133, 12147, 12163, 12172, 12174, 12182, 12188, 12191, 12198, 12202, 12206, 12210, 12218, 12220, 12226, 12227, 12229, 12237, 12238, 12254, 12267, 12277, 12283, 12289, 12303, 12307, 12316, 12318, 12322, 12323, 12327, 12346, 12371, 12374, 12379, 12385, 12386, 12398, 12412, 12417, 12432, 12437, 12439, 12448, 12451, 12454, 12458, 12464, 12471, 12472, 12473, 12477, 12478, 12483, 12484, 12486, 12489, 12492, 12497, 12503, 12517, 12518, 12521, 12522, 12527, 12540, 12546, 12547, 12552, 12553, 12566, 12570, 12577, 12581, 12582, 12583, 12585, 12590, 12602, 12610, 12613, 12614, 12628, 12649, 12652, 12655, 12668, 12670, 12678, 12702, 12703, 12717, 12727, 12730, 12731, 12735, 12737, 12738, 12740, 12741, 12757, 12763, 12767, 12769, 12772, 12775, 12777, 12778, 12802, 12805, 12810, 12820, 12821, 12822, 12826, 12829, 12830, 12833, 12835, 12836, 12841, 12849, 12858, 12870, 12875, 12877, 12893, 12900, 12902, 12905, 12910, 12918, 12927, 12930, 12938, 12942, 12944, 12946, 12951, 12953, 12955, 12956, 12974, 12975, 12981, 12983, 12991, 12993, 12995, 13000, 13004, 13010, 13023, 13025, 13026, 13031, 13032, 13053, 13057, 13058, 13066, 13077, 13087, 13098, 13103, 13105, 13119, 13122, 13126, 13132, 13144, 13147, 13160, 13167, 13170, 13180, 13191, 13192, 13211, 13218, 13222, 13224, 13226, 13231, 13244, 13246, 13248, 13251, 13254, 13287, 13289, 13290, 13301, 13304, 13310, 13311, 13333, 13334, 13341, 13345, 13350, 13356, 13359, 13364, 13395, 13399, 13407, 13409, 13411, 13417, 13423, 13433, 13435, 13439, 13442, 13443, 13447, 13457, 13461, 13466, 13478, 13480, 13483, 13485, 13486, 13490, 13492, 13494, 13501, 13504, 13510, 13528, 13531, 13537, 13542, 13543, 13550, 13552, 13564, 13570, 13573, 13578, 13579, 13591, 13603, 13609, 13618, 13624, 13630, 13635, 13637, 13643, 13647, 13648, 13649, 13651, 13653, 13655, 13656, 13668, 13670, 13678, 13690, 13699, 13730, 13733, 13745, 13748, 13759, 13774, 13776, 13777, 13779, 13782, 13798, 13800, 13803, 13805, 13808, 13819, 13822, 13823, 13831, 13835, 13838, 13846, 13858, 13860, 13869, 13876, 13880, 13882, 13890, 13900, 13924, 13930, 13938, 13942, 13945, 13947, 13953, 13956, 13961, 13963, 13982, 13984, 13990, 13992, 14004, 14006, 14007, 14018, 14021, 14023, 14037, 14045, 14048, 14053, 14062, 14080, 14086, 14089, 14101, 14103, 14104, 14111, 14112, 14138, 14151, 14157, 14159, 14174, 14183, 14192, 14194, 14196, 14199, 14203, 14223, 14226, 14233, 14235, 14254, 14256, 14258, 14260, 14264, 14266, 14268, 14270, 14271, 14283, 14287, 14291, 14292, 14295, 14304, 14306, 14313, 14318, 14319, 14321, 14329, 14338, 14344, 14360, 14364, 14367, 14376, 14384, 14387, 14390, 14403, 14412, 14418, 14436, 14442, 14446, 14456, 14461, 14465, 14470, 14476, 14479, 14483, 14489, 14495, 14513, 14518, 14520, 14525, 14526, 14527, 14536, 14545, 14546, 14548, 14550, 14554, 14559, 14581, 14595, 14606, 14616, 14618, 14623, 14625, 14627, 14632, 14643, 14651, 14653, 14657, 14660, 14661, 14666, 14668, 14675, 14676, 14682, 14688, 14693, 14696, 14698, 14703, 14709, 14712, 14713, 14717, 14728, 14731, 14733, 14738, 14739, 14768, 14773, 14782, 14784, 14797, 14812, 14818, 14821, 14826, 14834, 14836, 14853, 14859, 14875, 14879, 14881, 14900, 14905, 14913, 14915, 14918, 14930, 14932, 14951, 14957, 14958, 14961, 14964, 14967, 14980, 14983, 14985, 15004, 15006, 15017, 15029, 15033, 15056, 15059, 15066, 15072, 15078, 15090, 15092, 15101, 15102, 15109, 15111, 15116, 15129, 15130, 15133, 15137, 15142, 15143, 15145, 15153, 15171, 15175, 15176, 15177, 15179, 15187, 15191, 15199, 15205, 15214, 15221, 15222, 15224, 15225, 15226, 15231, 15247, 15249, 15255, 15261, 15263, 15269, 15278, 15282, 15286, 15288, 15290, 15296, 15318, 15330, 15331, 15352, 15357, 15361, 15365, 15366, 15370, 15371, 15374, 15377, 15378, 15393, 15397, 15400, 15401, 15403, 15405, 15406, 15427, 15434, 15439, 15440, 15441, 15446, 15453, 15460, 15461, 15462, 15466, 15470, 15475, 15482, 15484, 15485, 15491, 15497, 15502, 15505, 15530, 15533, 15539, 15540, 15548, 15549, 15556, 15559, 15561, 15563, 15580, 15582, 15589, 15597, 15601, 15608, 15622, 15625, 15626, 15633, 15640, 15648, 15651, 15659, 15673, 15679, 15688, 15690, 15697, 15699, 15707, 15709, 15716, 15724, 15732, 15734, 15740, 15754, 15761, 15763, 15768, 15769, 15770, 15771, 15779, 15784, 15786, 15788, 15790, 15797, 15803, 15804, 15811, 15832, 15833, 15834, 15837, 15840, 15841, 15842, 15845, 15848, 15849, 15855, 15858, 15878, 15889, 15911, 15914, 15930, 15943, 15945, 15956, 15959, 15968, 15970, 15973, 15981, 15991, 15996, 16006, 16009, 16012, 16014, 16022, 16029, 16042, 16056, 16061, 16076, 16093, 16098, 16117, 16130, 16140, 16151, 16154, 16163, 16165, 16168, 16174, 16176, 16177, 16180, 16191, 16199, 16207, 16214, 16217, 16230, 16251, 16256, 16264, 16266, 16267, 16268, 16270, 16273, 16285, 16286, 16294, 16304, 16306, 16308, 16310, 16317, 16318, 16324, 16328, 16330, 16332, 16335, 16342, 16360, 16370, 16372, 16376, 16378, 16380, 16383, 16387, 16389, 16390, 16405, 16406, 16411, 16416, 16419, 16423, 16427, 16445, 16452, 16457, 16484, 16487, 16488, 16535, 16539, 16540, 16549, 16556, 16563, 16565, 16571, 16573, 16594, 16599, 16602, 16609, 16611, 16614, 16628, 16630, 16632, 16638, 16655, 16658, 16661, 16662, 16664, 16668, 16670, 16672, 16675, 16677, 16692, 16699, 16711, 16718, 16727, 16742, 16743, 16752, 16753, 16754, 16757, 16760, 16773, 16775, 16778, 16787, 16790, 16819, 16823, 16826, 16828, 16829, 16834, 16837, 16849, 16856, 16859, 16866, 16869, 16870, 16878, 16883, 16885, 16890, 16892, 16895, 16896, 16907, 16911, 16921, 16934, 16941, 16943, 16948, 16950, 16951, 16959, 16962, 16969, 16973, 16976, 16977, 16978, 16989, 16991, 16994, 16995, 17013, 17016, 17025, 17029, 17032, 17040, 17046, 17047, 17050, 17053, 17067, 17075, 17076, 17079, 17097, 17099, 17101, 17102, 17114, 17134, 17145, 17149, 17154, 17159, 17164, 17165, 17172, 17194, 17198, 17207, 17208, 17209, 17218, 17219, 17230, 17247, 17252, 17260, 17263, 17264, 17266, 17267, 17269, 17277, 17291, 17304, 17310, 17318, 17323, 17324, 17326, 17333, 17335, 17338, 17341, 17342, 17343, 17348, 17360, 17364, 17370, 17373, 17376, 17378, 17383, 17391, 17416, 17417, 17423, 17427, 17452, 17455, 17457, 17475, 17476, 17482, 17483, 17490, 17492, 17494, 17495, 17503, 17512, 17513, 17561, 17564, 17579, 17587, 17588, 17589, 17591, 17593, 17599, 17602, 17606, 17607, 17616, 17617, 17625, 17629, 17641, 17648, 17656, 17657, 17661, 17672, 17674, 17676, 17689, 17698, 17702, 17704, 17706, 17708, 17716, 17730, 17732, 17733, 17734, 17740, 17741, 17742, 17744, 17756, 17770, 17771, 17781, 17795, 17800, 17812, 17815, 17830, 17831, 17853, 17856, 17859, 17870, 17872, 17873, 17874, 17876, 17877, 17878, 17881, 17882, 17885, 17898, 17918, 17920, 17921, 17924, 17925, 17944, 17945, 17951, 17952, 17958, 17959, 17962, 17963, 17975, 17991, 18007, 18010, 18018, 18035, 18036, 18038, 18048, 18049, 18050, 18062, 18064, 18066, 18087, 18092, 18103, 18108, 18112, 18120, 18123, 18126, 18128, 18131, 18139, 18143, 18147, 18153, 18156, 18160, 18161, 18166, 18177, 18182, 18185, 18188, 18193, 18202, 18205, 18216, 18217, 18223, 18226, 18236, 18237, 18242, 18251, 18258, 18265, 18275, 18279, 18286, 18287, 18288, 18295, 18300, 18311, 18314, 18321, 18329, 18336, 18337, 18342, 18348, 18351, 18355, 18357, 18359, 18380, 18385, 18391, 18396, 18421, 18424, 18437, 18438, 18452, 18460, 18467, 18471, 18477, 18486, 18487, 18492, 18500, 18502, 18504, 18506, 18519, 18530, 18533, 18535, 18536, 18541, 18544, 18552, 18553, 18556, 18557, 18562, 18567, 18570, 18572, 18576, 18586, 18587, 18594, 18596, 18602, 18607, 18609, 18630, 18636, 18639, 18652, 18661, 18662, 18677, 18687, 18689, 18695, 18696, 18698, 18700, 18709, 18710, 18711, 18713, 18715, 18730, 18755, 18757, 18759, 18765, 18768, 18773, 18776, 18779, 18783, 18787, 18790, 18805, 18809, 18824, 18825, 18826, 18828, 18839, 18842, 18873, 18879, 18884, 18885, 18895, 18898, 18902, 18909, 18911, 18918, 18925, 18930, 18931, 18937, 18939, 18951, 18954, 18966, 18976, 18977, 18986, 19001, 19005, 19011, 19014, 19026, 19028, 19037, 19044, 19047, 19056, 19063, 19076, 19083, 19101, 19112, 19113, 19114, 19120, 19130, 19140, 19150, 19151, 19164, 19176, 19179, 19184, 19191, 19196, 19201, 19214, 19215, 19218, 19223, 19233, 19236, 19242, 19254, 19276, 19278, 19280, 19282, 19290, 19291, 19305, 19309, 19312, 19316, 19327, 19345, 19349, 19351, 19356, 19362, 19364, 19369, 19381, 19388, 19390, 19404, 19406, 19413, 19414, 19420, 19423, 19437, 19440, 19446, 19467, 19470, 19472, 19477, 19489, 19493, 19495, 19498, 19499, 19502, 19522, 19528, 19537, 19539, 19548, 19564, 19569, 19577, 19581, 19584, 19585, 19590, 19598, 19600, 19601, 19606, 19608, 19609, 19615, 19619, 19621, 19622, 19639, 19647, 19652, 19654, 19656, 19657, 19671, 19679, 19684, 19695, 19708, 19715, 19723, 19726, 19730, 19732, 19737, 19739, 19740, 19742, 19752, 19753, 19756, 19766, 19769, 19788, 19792, 19797, 19806, 19808, 19828, 19838, 19839, 19840, 19841, 19842, 19844, 19876, 19892, 19897, 19899, 19904, 19909, 19916, 19922, 19926, 19931, 19940, 19943, 19947, 19949, 19953, 19956, 19959, 19962, 19964, 19977, 19978, 19980, 19987, 19992, 19997, 20014, 20024, 20029, 20032, 20035, 20037, 20047, 20052, 20053, 20071, 20088, 20092, 20101, 20113, 20114, 20115, 20117, 20119, 20122, 20134, 20137, 20148, 20150, 20157, 20169, 20172, 20175, 20178, 20180, 20182, 20185, 20190, 20209, 20213, 20216, 20217, 20221, 20238, 20252, 20279, 20289, 20296, 20298, 20300, 20301, 20307, 20308, 20316, 20320, 20324, 20336, 20340, 20341, 20344, 20351, 20356, 20363, 20369, 20372, 20375, 20385, 20418, 20419, 20420, 20421, 20429, 20459, 20462, 20468, 20474, 20478, 20480, 20487, 20506, 20508, 20521, 20535, 20539, 20543, 20551, 20552, 20553, 20559, 20560, 20561, 20565, 20566, 20572, 20597, 20607, 20617, 20618, 20622, 20626, 20627, 20637, 20652, 20656, 20672, 20674, 20680, 20681, 20686, 20697, 20702, 20704, 20708, 20719, 20734, 20736, 20742, 20756, 20763, 20766, 20798, 20802, 20814, 20828, 20837, 20840, 20871, 20874, 20886, 20888, 20889, 20896, 20898, 20901, 20902, 20926, 20927, 20932, 20937, 20940, 20942, 20946, 20951, 20961, 20976, 20985, 20987, 20997, 20998, 21005, 21023, 21033, 21034, 21036, 21052, 21070, 21076, 21116, 21122, 21151, 21158, 21162, 21168, 21175, 21179, 21185, 21186, 21191, 21192, 21195, 21211, 21215, 21223, 21226, 21227, 21242, 21246, 21251, 21266, 21272, 21281, 21286, 21289, 21309, 21324, 21326, 21341, 21352, 21358, 21360, 21367, 21372, 21375, 21377, 21388, 21389, 21412, 21420, 21431, 21441, 21443, 21454, 21463, 21468, 21473, 21484, 21490, 21497, 21499, 21507, 21518, 21521, 21522, 21523, 21524, 21525, 21531, 21537, 21544, 21548, 21562, 21566, 21576, 21579, 21582, 21610, 21614, 21616, 21633, 21639, 21644, 21651, 21658, 21659, 21674, 21675, 21679, 21683, 21685, 21686, 21689, 21697, 21722, 21724, 21725, 21728, 21735, 21737, 21743, 21744, 21756, 21757, 21758, 21761, 21769, 21780, 21785, 21793, 21794, 21801, 21809, 21810, 21811, 21821, 21822, 21823, 21824, 21826, 21830, 21837, 21847, 21852, 21853, 21857, 21863, 21868, 21869, 21874, 21887, 21894, 21907, 21908, 21914, 21931, 21949, 21952, 21960, 21965, 21979, 21981, 21982, 21992, 21993, 22001, 22003, 22006, 22012, 22014, 22019, 22029, 22030, 22036, 22040, 22046, 22053, 22063, 22065, 22068, 22072, 22082, 22095, 22098, 22100, 22107, 22109, 22111, 22117, 22127, 22135, 22136, 22157, 22158, 22166, 22171, 22179, 22181, 22186, 22188, 22192, 22206, 22231, 22234, 22237, 22241, 22250, 22254, 22261, 22270, 22274, 22278, 22281, 22289, 22290, 22292, 22297, 22300, 22301, 22303, 22310, 22322, 22324, 22329, 22330, 22340, 22341, 22342, 22359, 22367, 22371, 22381, 22384, 22394, 22398, 22405, 22407, 22408, 22411, 22429, 22453, 22454, 22455, 22456, 22457, 22458, 22468, 22473, 22481, 22486, 22487, 22490, 22496, 22506, 22509, 22514, 22515, 22521, 22523, 22526, 22527, 22546, 22547, 22554, 22581, 22583, 22590, 22593, 22597, 22598, 22616, 22621, 22646, 22650, 22653, 22661, 22680, 22687, 22693, 22698, 22712, 22714, 22716, 22719, 22721, 22761, 22799, 22802, 22803, 22807, 22811, 22819, 22826, 22834, 22837, 22838, 22853, 22860, 22861, 22866, 22870, 22876, 22877, 22886, 22897, 22903, 22906, 22910, 22912, 22915, 22920, 22929, 22942, 22959, 22960, 22965, 22983, 22990, 22995, 22999, 23001, 23012, 23014, 23015, 23026, 23029, 23031, 23039, 23054, 23061, 23067, 23069, 23070, 23081, 23084, 23090, 23093, 23095, 23108, 23114, 23115, 23122, 23129, 23151, 23158, 23161, 23176, 23183, 23186, 23190, 23213, 23221, 23228, 23235, 23243, 23244, 23250, 23252, 23258, 23261, 23273, 23281, 23288, 23289, 23293, 23295, 23307, 23312, 23313, 23324, 23331, 23336, 23347, 23353, 23358, 23367, 23383, 23387, 23397, 23398, 23402, 23403, 23411, 23418, 23421, 23438, 23440, 23442, 23458, 23460, 23464, 23470, 23474, 23485, 23486, 23487, 23488, 23503, 23509, 23513, 23519, 23520, 23527, 23533, 23539, 23542, 23548, 23550, 23567, 23568, 23576, 23587, 23590, 23592, 23594, 23618, 23629, 23635, 23637, 23638, 23641, 23644, 23647, 23659, 23665, 23666, 23667, 23691, 23692, 23696, 23705, 23712, 23718, 23719, 23720, 23724, 23729, 23733, 23755, 23759, 23763, 23765, 23769, 23779, 23781, 23793, 23799, 23809, 23820, 23822, 23825, 23827, 23829, 23842, 23843, 23849, 23854, 23855, 23859, 23861, 23867, 23875, 23886, 23895, 23896, 23903, 23920, 23922, 23936, 23945, 23947, 23958, 23960, 23961, 23966, 23985, 23988, 23990, 23999, 24008, 24011, 24017, 24025, 24026, 24029, 24040, 24044, 24046, 24049, 24050, 24067, 24071, 24074, 24078, 24081, 24088, 24091, 24096, 24101, 24102, 24118, 24119, 24124, 24128, 24129, 24146, 24147, 24148, 24150, 24163, 24174, 24180, 24191, 24193, 24196, 24197, 24199, 24206, 24207, 24210, 24226, 24245, 24253, 24257, 24275, 24286, 24294, 24306, 24308, 24309, 24314, 24324, 24326, 24327, 24328, 24330, 24337, 24339, 24341, 24356, 24366, 24369, 24371, 24373, 24379, 24387, 24393, 24400, 24412, 24438, 24447, 24451, 24463, 24483, 24491, 24503, 24504, 24508, 24509, 24511, 24514, 24516, 24517, 24519, 24520, 24523, 24550, 24558, 24564, 24570, 24579, 24581, 24590, 24594, 24597, 24601, 24603, 24614, 24619, 24624, 24628, 24630, 24631, 24633, 24637, 24646, 24656, 24657, 24670, 24673, 24680, 24682, 24692, 24697, 24701, 24712, 24723, 24724, 24734, 24742, 24744, 24746, 24753, 24756, 24759, 24761, 24762, 24773, 24776, 24798, 24800, 24804, 24809, 24814, 24827, 24833, 24834, 24837, 24848, 24850, 24859, 24863, 24869, 24870, 24871, 24872, 24879, 24891, 24894, 24905, 24908, 24909, 24912, 24933, 24950, 24951, 24958, 24967, 24981, 24988, 24999, 25005, 25033, 25035, 25036, 25041, 25051, 25055, 25056, 25058, 25062, 25065, 25068, 25080, 25085, 25091, 25098, 25118, 25131, 25135, 25147, 25152, 25159, 25166, 25173, 25178, 25191, 25198, 25199, 25205, 25209, 25211, 25220, 25244, 25252, 25255, 25258, 25261, 25273, 25282, 25287, 25299, 25306, 25309, 25310, 25315, 25322, 25327, 25335, 25336, 25341, 25343, 25346, 25347, 25360, 25361, 25367, 25372, 25373, 25380, 25383, 25392, 25399, 25407, 25408, 25413, 25415, 25424, 25428, 25433, 25448, 25451, 25464, 25471, 25478, 25482, 25496, 25498, 25500, 25501, 25510, 25517, 25518, 25519, 25522, 25527, 25530, 25531, 25532, 25565, 25566, 25567, 25587, 25606, 25607, 25609, 25611, 25614, 25618, 25628, 25634, 25636, 25637, 25638, 25643, 25654, 25664, 25675, 25690, 25692, 25694, 25696, 25697, 25699, 25725, 25728, 25738, 25746, 25766, 25767, 25776, 25786, 25787, 25801, 25805, 25806, 25810, 25819, 25822, 25823, 25825, 25828, 25829, 25834, 25844, 25864, 25870, 25873, 25876, 25879, 25886, 25896, 25902, 25903, 25910, 25912, 25917, 25919, 25925, 25932, 25936, 25939, 25940, 25944, 25949, 25951, 25959, 25961, 25963, 25965, 25980, 25981, 26005, 26012, 26021, 26024, 26026, 26045, 26052, 26074, 26075, 26076, 26082, 26104, 26110, 26118, 26129, 26133, 26135, 26137, 26141, 26171, 26178, 26180, 26182, 26187, 26209, 26210, 26217, 26226, 26232, 26234, 26250, 26265, 26281, 26288, 26291, 26304, 26311, 26314, 26316, 26328, 26335, 26346, 26349, 26355, 26360, 26362, 26366, 26367, 26372, 26374, 26378, 26379, 26383, 26384, 26388, 26398, 26405, 26422, 26426, 26433, 26434, 26441, 26443, 26461, 26469, 26474, 26481, 26487, 26488, 26500, 26503, 26504, 26506, 26507, 26525, 26532, 26549, 26552, 26561, 26562, 26577, 26580, 26582, 26591, 26594, 26602, 26606, 26609, 26610, 26612, 26613, 26614, 26617, 26621, 26633, 26634, 26639, 26640, 26642, 26643, 26673, 26678, 26687, 26693, 26695, 26701, 26709, 26720, 26721, 26722, 26724, 26727, 26742, 26743, 26744, 26753, 26754, 26761, 26763, 26767, 26773, 26790, 26794, 26801, 26804, 26813, 26815, 26835, 26840, 26844, 26845, 26846, 26847, 26851, 26853, 26863, 26868, 26872, 26877, 26879, 26897, 26900, 26907, 26911, 26918, 26924, 26928, 26934, 26935, 26946, 26955, 26957, 26962, 26972, 26975, 26984, 26988, 27000, 27009, 27032, 27039, 27040, 27044, 27049, 27052, 27057, 27063, 27071, 27073, 27075, 27082, 27089, 27092, 27108, 27111, 27114, 27119, 27126, 27137, 27139, 27149, 27161, 27167, 27179, 27185, 27193, 27200, 27202, 27209, 27214, 27231, 27237, 27238, 27251, 27253, 27277, 27278, 27293, 27315, 27320, 27336, 27358, 27359, 27394, 27398, 27403, 27405, 27413, 27429, 27433, 27435, 27440, 27444, 27462, 27464, 27471, 27473, 27474, 27484, 27513, 27516, 27521, 27523, 27524, 27531, 27538, 27540, 27547, 27551, 27553, 27554, 27557, 27560, 27562, 27564, 27589, 27592, 27598, 27599, 27612, 27619, 27622, 27630, 27632, 27636, 27640, 27644, 27648, 27654, 27660, 27672, 27674, 27676, 27688, 27696, 27704, 27707, 27715, 27719, 27732, 27733, 27745, 27784, 27792, 27794, 27796, 27799, 27801, 27810, 27815, 27821, 27825, 27833, 27844, 27851, 27862, 27868, 27869, 27870, 27881, 27882, 27886, 27889, 27892, 27894, 27907, 27910, 27923, 27931, 27937, 27944, 27945, 27976, 27982, 27984, 27997, 28009, 28016, 28019, 28022, 28023, 28027, 28035, 28036, 28037, 28038, 28042, 28056, 28059, 28066, 28075, 28082, 28089, 28097, 28107, 28116, 28128, 28134, 28138, 28145, 28149, 28154, 28175, 28187, 28194, 28199, 28200, 28208, 28210, 28212, 28220, 28222, 28233, 28240, 28252, 28263, 28266, 28273, 28280, 28281, 28283, 28286, 28287, 28299, 28302, 28304, 28327, 28328, 28332, 28333, 28335, 28355, 28365, 28376, 28377, 28390, 28393, 28402, 28407, 28410, 28420, 28422, 28426, 28435, 28438, 28478, 28480, 28498, 28509, 28522, 28544, 28545, 28547, 28548, 28550, 28551, 28556, 28564, 28566, 28567, 28569, 28572, 28576, 28577, 28581, 28582, 28589, 28602, 28611, 28615, 28635, 28650, 28658, 28661, 28669, 28675, 28676, 28680, 28684, 28695, 28704, 28716, 28730, 28735, 28736, 28739, 28749, 28752, 28767, 28790, 28801, 28808, 28825, 28837, 28838, 28839, 28854, 28857, 28863, 28865, 28869, 28871, 28873, 28876, 28880, 28882, 28884, 28893, 28901, 28907, 28913, 28934, 28935, 28939, 28942, 28945, 28946, 28950, 28952, 28958, 28962, 28963, 28984, 28986, 28991, 28993, 29010, 29016, 29021, 29036, 29041, 29044, 29049, 29052, 29058, 29087, 29088, 29096, 29099, 29114, 29116, 29121, 29123, 29135, 29140, 29150, 29153, 29158, 29160, 29161, 29174, 29185, 29192, 29196, 29209, 29214, 29215, 29216, 29217, 29220, 29224, 29229, 29233, 29244, 29247, 29252, 29273, 29279, 29280, 29285, 29287, 29294, 29296, 29312, 29313, 29314, 29315, 29320, 29329, 29331, 29334, 29340, 29341, 29345, 29349, 29357, 29367, 29375, 29380, 29383, 29385, 29386, 29390, 29391, 29398, 29401, 29407, 29413, 29416, 29418, 29432, 29435, 29436, 29452, 29461, 29469, 29474, 29476, 29491, 29499, 29507, 29523, 29529, 29531, 29545, 29548, 29551, 29555, 29566, 29570, 29586, 29599, 29600, 29603, 29613, 29617, 29620, 29634, 29637, 29662, 29663, 29672, 29673, 29676, 29679, 29687, 29693, 29704, 29711, 29717, 29723, 29733, 29740, 29751, 29756, 29763, 29766, 29784, 29790, 29793, 29794, 29800, 29810, 29811, 29825, 29837, 29841, 29844, 29851, 29854, 29856, 29857, 29865, 29878, 29884, 29892, 29899, 29908, 29909, 29912, 29928, 29933, 29939, 29941, 29951, 29952, 29958, 29963, 29969, 29980, 29981, 29984, 29993, 29996, 30001, 30015, 30016, 30018, 30022, 30025, 30027, 30032, 30036, 30047, 30054, 30058, 30079, 30081, 30083, 30085, 30098, 30102, 30106, 30109, 30123, 30130, 30134, 30136, 30138, 30144, 30150, 30152, 30163, 30166, 30167, 30174, 30175, 30193, 30201, 30211, 30213, 30232, 30234, 30243, 30253, 30272, 30281, 30284, 30288, 30296, 30298, 30303, 30306, 30324, 30331, 30351, 30353, 30355, 30366, 30368, 30370, 30372, 30393, 30396, 30398, 30404, 30405, 30407, 30410, 30415, 30423, 30425, 30433, 30445, 30450, 30461, 30462, 30469, 30473, 30474, 30475, 30481, 30484, 30500, 30506, 30509, 30512, 30513, 30522, 30523, 30534, 30539, 30554, 30558, 30559, 30561, 30570, 30575, 30577, 30581, 30586, 30596, 30600, 30603, 30605, 30609, 30620, 30628, 30637, 30655, 30658, 30666, 30672, 30673, 30676, 30680, 30684, 30709, 30710, 30719, 30729, 30745, 30754, 30768, 30769, 30773, 30775, 30780, 30804, 30806, 30808, 30809, 30810, 30821, 30822, 30823, 30829, 30838, 30848, 30861, 30866, 30872, 30877, 30883, 30885, 30916, 30920, 30934, 30937, 30940, 30953, 30958, 30959, 30965, 30967, 30968, 30970, 30981, 30988, 30995, 30999, 31000, 31010, 31017, 31018, 31019, 31020, 31026, 31033, 31034, 31039, 31046, 31059, 31062, 31063, 31072, 31074, 31082, 31090, 31096, 31105, 31114, 31125, 31126, 31130, 31151, 31153, 31159, 31169, 31175, 31203, 31220, 31232, 31234, 31235, 31238, 31250, 31253, 31259, 31264, 31268, 31275, 31279, 31285, 31289, 31293, 31295, 31296, 31300, 31303, 31304, 31307, 31323, 31328, 31329, 31341, 31343, 31344, 31352, 31370, 31371, 31375, 31382, 31384, 31391, 31401, 31404, 31405, 31414, 31436, 31438, 31442, 31452, 31454, 31463, 31475, 31480, 31490, 31499, 31521, 31523, 31532, 31534, 31535, 31540, 31545, 31569, 31570, 31577, 31583, 31588, 31594, 31605, 31609, 31612, 31625, 31630, 31652, 31665, 31672, 31673, 31674, 31677, 31686, 31710, 31712, 31713, 31746, 31748, 31756, 31765, 31779, 31794, 31797, 31823, 31832, 31840, 31844, 31845, 31848, 31872, 31876, 31882, 31886, 31892, 31893, 31898, 31902, 31908, 31912, 31919, 31924, 31929, 31960, 31966, 31968, 31969, 31981, 31985, 31988, 31994, 31996, 32002, 32008, 32010, 32012, 32020, 32022, 32045, 32047, 32048, 32051, 32053, 32056, 32058, 32066, 32071, 32075, 32082, 32086, 32091, 32101, 32109, 32112, 32114, 32115, 32131, 32137, 32145, 32152, 32153, 32188, 32189, 32209, 32219, 32220, 32246, 32248, 32250, 32263, 32265, 32267, 32270, 32271, 32275, 32290, 32302, 32319, 32327, 32328, 32335, 32337, 32347, 32356, 32361, 32363, 32364, 32368, 32370, 32394, 32395, 32397, 32411, 32418, 32423, 32424, 32433, 32439, 32443, 32454, 32456, 32459, 32460, 32462, 32468, 32475, 32482, 32488, 32494, 32501, 32505, 32509, 32514, 32535, 32545, 32571, 32572, 32575, 32578, 32579, 32583, 32587, 32588, 32607, 32618, 32621, 32629, 32633, 32642, 32651, 32652, 32656, 32671, 32679, 32683, 32688, 32690, 32696, 32701, 32704, 32716, 32719, 32723, 32724, 32726, 32737, 32751, 32757, 32766, 32774, 32775, 32780, 32794, 32802, 32809, 32811, 32815, 32822, 32824, 32826, 32837, 32838, 32840, 32841, 32842, 32848, 32859, 32869, 32873, 32875, 32876, 32879, 32880, 32890, 32896, 32907, 32909, 32930, 32933, 32942, 32949, 32950, 32958, 32961, 32964, 32969, 32970, 32981, 32993, 33019, 33020, 33029, 33033, 33037, 33039, 33040, 33041, 33052, 33055, 33057, 33067, 33069, 33077, 33089, 33092, 33094, 33120, 33123, 33128, 33130, 33147, 33150, 33154, 33164, 33165, 33167, 33169, 33170, 33174, 33176, 33183, 33186, 33191, 33194, 33199, 33200, 33219, 33222, 33223, 33224, 33225, 33264, 33272, 33274, 33275, 33279, 33300, 33301, 33306, 33315, 33319, 33321, 33323, 33325, 33336, 33344, 33348, 33359, 33367, 33368, 33369, 33371, 33378, 33388, 33404, 33414, 33416, 33420, 33421, 33424, 33433, 33434, 33440, 33444, 33451, 33454, 33456, 33457, 33458, 33461, 33466, 33469, 33471, 33472, 33477, 33478, 33483, 33487, 33489, 33495, 33502, 33535, 33544, 33548, 33552, 33558, 33564, 33569, 33574, 33583, 33587, 33588, 33590, 33605, 33612, 33616, 33617, 33618, 33632, 33634, 33641, 33662, 33663, 33673, 33674, 33681, 33685, 33688, 33697, 33712, 33718, 33720, 33724, 33737, 33745, 33751, 33755, 33756, 33764, 33771, 33772, 33778, 33780, 33783, 33796, 33808, 33811, 33812, 33834, 33835, 33836, 33858, 33862, 33877, 33878, 33881, 33885, 33891, 33893, 33920, 33922, 33925, 33937, 33941, 33942, 33945, 33948, 33954, 33958, 33985, 33989, 33998, 34005, 34013, 34024, 34039, 34040, 34042, 34049, 34053, 34071, 34100, 34106, 34108, 34119, 34122, 34131, 34134, 34138, 34140, 34142, 34144, 34154, 34161, 34163, 34171, 34176, 34180, 34190, 34196, 34200, 34201, 34222, 34224, 34229, 34236, 34246, 34252, 34259, 34260, 34264, 34266, 34271, 34278, 34279, 34284, 34293, 34311, 34337, 34338, 34343, 34347, 34355, 34356, 34359, 34363, 34381, 34395, 34399, 34403, 34413, 34416, 34424, 34427, 34429, 34434, 34438, 34453, 34456, 34458, 34476, 34479, 34480, 34502, 34506, 34508, 34511, 34524, 34531, 34536, 34541, 34542, 34543, 34544, 34551, 34590, 34592, 34595, 34596, 34607, 34609, 34611, 34622, 34630, 34640, 34657, 34660, 34662, 34673, 34677, 34683, 34685, 34691, 34693, 34694, 34701, 34708, 34712, 34717, 34732, 34733, 34737, 34742, 34752, 34755, 34760, 34767, 34771, 34778, 34793, 34794, 34800, 34802, 34805, 34808, 34810, 34812, 34818, 34822, 34823, 34831, 34834, 34839, 34862, 34868, 34875, 34878, 34887, 34901, 34903, 34908, 34921, 34932, 34933, 34949, 34953, 34955, 34959, 34961, 34962, 34967, 34968, 34979, 34999, 35006, 35008, 35020, 35022, 35025, 35027, 35032, 35035, 35037, 35044, 35049, 35063, 35074, 35079, 35093, 35094, 35099, 35100, 35125, 35135, 35137, 35139, 35144, 35153, 35156, 35162, 35163, 35170, 35176, 35177, 35182, 35184, 35187, 35189, 35194, 35202, 35203, 35214, 35217, 35228, 35229, 35231, 35235, 35239, 35246, 35253, 35254, 35259, 35260, 35268, 35271, 35276, 35280, 35281, 35283, 35307, 35320, 35329, 35336, 35347, 35355, 35371, 35392, 35395, 35398, 35409, 35414, 35416, 35427, 35431, 35432, 35434, 35446, 35448, 35450, 35461, 35465, 35476, 35480, 35489, 35490, 35492, 35494, 35495, 35508, 35509, 35511, 35513, 35531, 35538, 35543, 35545, 35548, 35554, 35561, 35573, 35576, 35594, 35598, 35610, 35613, 35624, 35645, 35648, 35660, 35676, 35678, 35682, 35686, 35688, 35689, 35707, 35708, 35712, 35716, 35723, 35729, 35731, 35767, 35768, 35776, 35781, 35803, 35807, 35809, 35816, 35817, 35819, 35833, 35836, 35847, 35850, 35852, 35855, 35856, 35860, 35863, 35868, 35871, 35873, 35878, 35883, 35890, 35895, 35899, 35900, 35907, 35913, 35916, 35924, 35950, 35952, 35954, 35961, 35965, 35970, 35973, 35978, 35980, 35982, 35986, 35987, 35990, 35991, 36009, 36012, 36014, 36024, 36037, 36049, 36065, 36068, 36077, 36078, 36080, 36081, 36086, 36087, 36099, 36107, 36108, 36110, 36112, 36115, 36116, 36122, 36127, 36133, 36138, 36139, 36144, 36147, 36150, 36156, 36160, 36169, 36171, 36172, 36177, 36184, 36188, 36189, 36203, 36222, 36227, 36230, 36233, 36245, 36247, 36248, 36267, 36274, 36276, 36279, 36285, 36286, 36289, 36295, 36300, 36301, 36307, 36309, 36310, 36315, 36323, 36328, 36331, 36336, 36341, 36348, 36356, 36361, 36372, 36382, 36383, 36390, 36391, 36398, 36402, 36403, 36404, 36407, 36410, 36411, 36416, 36417, 36426, 36429, 36430, 36432, 36435, 36436, 36441, 36444, 36447, 36460, 36465, 36467, 36472, 36475, 36484, 36487, 36495, 36513, 36517, 36520, 36531, 36548, 36555, 36559, 36567, 36570, 36573, 36575, 36582, 36596, 36620, 36625, 36628, 36646, 36649, 36667, 36668, 36692, 36695, 36721, 36733, 36734, 36747, 36754, 36756, 36776, 36779, 36783, 36788, 36798, 36799, 36805, 36807, 36810, 36828, 36836, 36843, 36848, 36849, 36852, 36861, 36870, 36879, 36887, 36891, 36908, 36911, 36913, 36921, 36931, 36935, 36939, 36954, 36955, 36957, 36961, 36970, 36971, 36980, 36983, 36986, 36992, 36998, 37001, 37008, 37020, 37022, 37024, 37037, 37040, 37046, 37049, 37054, 37058, 37059, 37069, 37073, 37106, 37112, 37118, 37125, 37131, 37142, 37152, 37158, 37160, 37161, 37163, 37168, 37177, 37182, 37193, 37196, 37205, 37208, 37209, 37211, 37224, 37246, 37259, 37262, 37271, 37280, 37304, 37305, 37312, 37318, 37320, 37325, 37327, 37329, 37331, 37342, 37346, 37357, 37358, 37371, 37374, 37404, 37420, 37423, 37425, 37430, 37442, 37447, 37448, 37449, 37462, 37463, 37476, 37477, 37478, 37487, 37488, 37500, 37508, 37513, 37514, 37519, 37538, 37543, 37551, 37557, 37558, 37561, 37572, 37578, 37595, 37612, 37625, 37627, 37628, 37643, 37646, 37647, 37651, 37652, 37655, 37658, 37660, 37670, 37675, 37679, 37680, 37682, 37689, 37696, 37725, 37731, 37744, 37753, 37754, 37763, 37775, 37778, 37784, 37788, 37789, 37793, 37801, 37811, 37830, 37831, 37837, 37840, 37841, 37842, 37844, 37847, 37849, 37858, 37868, 37890, 37897, 37906, 37910, 37919, 37922, 37930, 37935, 37956, 37958, 37963, 37966, 37980, 37987, 37990, 37995, 38001, 38015, 38019, 38021, 38042, 38049, 38053, 38055, 38067, 38075, 38087, 38092, 38097, 38108, 38110, 38111, 38113, 38136, 38139, 38142, 38149, 38151, 38152, 38155, 38156, 38165, 38170, 38172, 38177, 38179, 38180, 38205, 38211, 38213, 38227, 38229, 38232, 38233, 38235, 38238, 38240, 38242, 38246, 38254, 38256, 38284, 38290, 38299, 38317, 38320, 38326, 38331, 38332, 38350, 38353, 38354, 38379, 38381, 38397, 38403, 38415, 38420, 38423, 38437, 38443, 38448, 38450, 38452, 38455, 38462, 38466, 38467, 38472, 38480, 38509, 38519, 38522, 38527, 38536, 38537, 38549, 38551, 38555, 38556, 38558, 38562, 38563, 38565, 38569, 38575, 38579, 38587, 38590, 38602, 38609, 38611, 38612, 38614, 38620, 38621, 38638, 38640, 38641, 38643, 38646, 38649, 38654, 38673, 38680, 38681, 38682, 38692, 38702, 38703, 38710, 38713, 38714, 38730, 38731, 38736, 38737, 38740, 38742, 38745, 38746, 38749, 38751, 38754, 38763, 38792, 38793, 38796, 38798, 38809, 38811, 38820, 38822, 38824, 38830, 38831, 38832, 38846, 38856, 38857, 38859, 38869, 38879, 38884, 38890, 38899, 38900, 38909, 38929, 38931, 38932, 38939, 38943, 38949, 38952, 38961, 38964, 38965, 38966, 38976, 38977, 38978, 38980, 38984, 38985, 38988, 39000, 39005, 39016, 39026, 39029, 39032, 39043, 39051, 39053, 39065, 39066, 39082, 39088, 39091, 39092, 39110, 39113, 39126, 39132, 39134, 39137, 39138, 39149, 39153, 39155, 39157, 39159, 39166, 39180, 39209, 39216, 39223, 39226, 39230, 39235, 39236, 39239, 39240, 39244, 39251, 39260, 39262, 39272, 39280, 39283, 39291, 39297, 39304, 39308, 39314, 39321, 39323, 39324, 39326, 39334, 39338, 39356, 39361, 39362, 39364, 39374, 39378, 39381, 39382, 39393, 39399, 39412, 39414, 39415, 39418, 39419, 39421, 39427, 39453, 39459, 39464, 39466, 39472, 39473, 39493, 39497, 39504, 39505, 39514, 39515, 39536, 39540, 39541, 39546, 39553, 39563, 39571, 39572, 39577, 39582, 39589, 39594, 39604, 39607, 39608, 39622, 39624, 39625, 39627, 39632, 39633, 39639, 39644, 39655, 39659, 39665, 39667, 39679, 39687, 39692, 39693, 39694, 39697, 39703, 39709, 39722, 39736, 39737, 39738, 39746, 39758, 39759, 39760, 39761, 39763, 39764, 39766, 39773, 39779, 39783, 39789, 39805, 39809, 39812, 39816, 39818, 39843, 39854, 39856, 39859, 39863, 39866, 39870, 39872, 39876, 39881, 39884, 39890, 39901, 39905, 39911, 39919, 39924, 39925, 39943, 39952, 39954, 39955, 39956, 39966, 39970, 39978, 39991, 39995, 40009, 40012, 40015, 40019, 40020, 40025, 40054, 40056, 40061, 40064, 40096, 40102, 40108, 40122, 40129, 40132, 40134, 40141, 40158, 40161, 40170, 40171, 40178, 40183, 40185, 40188, 40194, 40212, 40228, 40239, 40241, 40244, 40246, 40247, 40250, 40251, 40258, 40261, 40262, 40273, 40288, 40291, 40312, 40328, 40337, 40351, 40361, 40390, 40391, 40393, 40430, 40436, 40438, 40442, 40452, 40453, 40467, 40468, 40476, 40479, 40485, 40486, 40489, 40502, 40505, 40510, 40514, 40515, 40521, 40523, 40524, 40526, 40532, 40535, 40536, 40554, 40565, 40568, 40573, 40581, 40582, 40587, 40596, 40603, 40604, 40615, 40616, 40621, 40629, 40631, 40633, 40638, 40639, 40642, 40646, 40653, 40655, 40656, 40670, 40685, 40697, 40698, 40701, 40702, 40709, 40718, 40721, 40723, 40726, 40728, 40743, 40748, 40753, 40754, 40769, 40775, 40780, 40782, 40785, 40795, 40796, 40802, 40804, 40814, 40816, 40818, 40820, 40828, 40830, 40834, 40838, 40858, 40865, 40866, 40876, 40879, 40888, 40891, 40898, 40933, 40941, 40946, 40960, 40961, 40966, 40967, 40972, 40974, 40975, 40982, 40992]\n"
     ]
    }
   ],
   "source": [
    "false_val = false_predictions(w1, b1, w2, b2)\n",
    "print(false_val)"
   ]
  },
  {
   "cell_type": "code",
   "execution_count": 13,
   "id": "11ebd090dc57196a",
   "metadata": {
    "ExecuteTime": {
     "end_time": "2024-02-22T19:37:04.333331900Z",
     "start_time": "2024-02-22T19:37:04.257984200Z"
    },
    "collapsed": false
   },
   "outputs": [
    {
     "data": {
      "text/plain": [
       "(41000,)"
      ]
     },
     "execution_count": 13,
     "metadata": {},
     "output_type": "execute_result"
    }
   ],
   "source": [
    "Y_train.shape"
   ]
  },
  {
   "cell_type": "code",
   "execution_count": null,
   "id": "ef65792e",
   "metadata": {},
   "outputs": [],
   "source": []
  }
 ],
 "metadata": {
  "kernelspec": {
   "display_name": "Python 3",
   "language": "python",
   "name": "python3"
  },
  "language_info": {
   "codemirror_mode": {
    "name": "ipython",
    "version": 3
   },
   "file_extension": ".py",
   "mimetype": "text/x-python",
   "name": "python",
   "nbconvert_exporter": "python",
   "pygments_lexer": "ipython3",
   "version": "3.10.6"
  }
 },
 "nbformat": 4,
 "nbformat_minor": 5
}
